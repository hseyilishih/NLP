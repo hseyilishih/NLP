{
 "cells": [
  {
   "cell_type": "markdown",
   "metadata": {},
   "source": [
    "# <font color = red> word to vector </font>"
   ]
  },
  {
   "cell_type": "markdown",
   "metadata": {},
   "source": [
    "## <mark style=background-color:yellow>1. import 所需套件 </mark> "
   ]
  },
  {
   "cell_type": "code",
   "execution_count": 1,
   "metadata": {},
   "outputs": [],
   "source": [
    "import pandas as pd\n",
    "import numpy as np"
   ]
  },
  {
   "cell_type": "code",
   "execution_count": 2,
   "metadata": {},
   "outputs": [],
   "source": [
    "from sklearn.metrics.pairwise import cosine_similarity\n",
    "from sklearn.metrics.pairwise import pairwise_distances"
   ]
  },
  {
   "cell_type": "code",
   "execution_count": 3,
   "metadata": {},
   "outputs": [],
   "source": [
    "from scipy.spatial.distance import pdist"
   ]
  },
  {
   "cell_type": "markdown",
   "metadata": {},
   "source": [
    "## <mark style=background-color:grey>視覺化 所需套件 </mark> "
   ]
  },
  {
   "cell_type": "code",
   "execution_count": 4,
   "metadata": {},
   "outputs": [],
   "source": [
    "import matplotlib.pyplot as plt"
   ]
  },
  {
   "cell_type": "markdown",
   "metadata": {},
   "source": [
    "## <mark style=background-color:grey>formatting 所需套件 </mark> "
   ]
  },
  {
   "cell_type": "code",
   "execution_count": 5,
   "metadata": {},
   "outputs": [
    {
     "data": {
      "text/plain": [
       "'Chinese (Traditional)_Taiwan.950'"
      ]
     },
     "execution_count": 5,
     "metadata": {},
     "output_type": "execute_result"
    }
   ],
   "source": [
    "import locale\n",
    "locale.setlocale(locale.LC_ALL, '') "
   ]
  },
  {
   "cell_type": "markdown",
   "metadata": {},
   "source": [
    "## <mark style=background-color:yellow> function </mark> "
   ]
  },
  {
   "cell_type": "code",
   "execution_count": 6,
   "metadata": {},
   "outputs": [],
   "source": [
    "def func_reduce(function, iterable, initializer=None):\n",
    "    it = iter(iterable)\n",
    "    if initializer is None:\n",
    "        value = next(it)\n",
    "    else:\n",
    "        value = initializer\n",
    "    for element in it:\n",
    "        value = function(value, element)\n",
    "    return value"
   ]
  },
  {
   "cell_type": "code",
   "execution_count": 7,
   "metadata": {},
   "outputs": [],
   "source": [
    "def func_build_word_vector(text):\n",
    "    word2id = {w: i for i, w in enumerate(sorted(list(set(func_reduce(lambda a, b: a + b, text)))))}\n",
    "    id2word = {x[1]: x[0] for x in word2id.items()}\n",
    "    wvectors = np.zeros((len(word2id), len(word2id)))\n",
    "    for sentence in text:\n",
    "        for word1, word2 in zip(sentence[:-1], sentence[1:]):\n",
    "            id1, id2 = word2id[word1], word2id[word2]\n",
    "            wvectors[id1, id2] += 1\n",
    "            wvectors[id2, id1] += 1\n",
    "    return wvectors, word2id, id2word"
   ]
  },
  {
   "cell_type": "markdown",
   "metadata": {},
   "source": [
    "$$ Cosine  Similarity餘弦相似度 =  \\frac{ A矩陣    X    B矩陣  }{ |A| |B| } $$"
   ]
  },
  {
   "cell_type": "code",
   "execution_count": 45,
   "metadata": {},
   "outputs": [],
   "source": [
    "def func_cos_sim_oneline(v1, v2):\n",
    "    print('分子 AB矩陣乘積=', np.dot(v1, v2))\n",
    "    print('分母A平方累計值&開完根號=', (np.sqrt(np.sum(np.power(v1, 2)))))\n",
    "    print('分母B平方累計值&開完根號=',np.sqrt(np.sum(np.power(v2, 2))))\n",
    "    print('最終分母=',(np.sqrt(np.sum(np.power(v1, 2))) * np.sqrt(np.sum(np.power(v2, 2)))))\n",
    "    return np.dot(v1, v2) / (np.sqrt(np.sum(np.power(v1, 2))) * np.sqrt(np.sum(np.power(v2, 2))))"
   ]
  },
  {
   "cell_type": "markdown",
   "metadata": {},
   "source": [
    "## <mark style=background-color:grey>Visualization</mark> "
   ]
  },
  {
   "cell_type": "code",
   "execution_count": 81,
   "metadata": {},
   "outputs": [],
   "source": [
    "def func_visualize(wvectors, id2word):\n",
    "    np.random.seed(10)\n",
    "    fig = plt.figure()\n",
    "    plt.figure(figsize=(10, 5))\n",
    "    U, sigma, Vh = np.linalg.svd(wvectors)\n",
    "    ax = fig.add_subplot(111)\n",
    "    ax.axis([-1, 1, -1, 1])\n",
    "    for i in id2word:\n",
    "        ax.text(U[i, 0], U[i, 1], id2word[i], alpha=0.3, fontsize=30)\n",
    "    plt.show()"
   ]
  },
  {
   "cell_type": "markdown",
   "metadata": {},
   "source": [
    "# <mark style=background-color:yellow>Calculate Vectors </mark> "
   ]
  },
  {
   "cell_type": "code",
   "execution_count": 15,
   "metadata": {},
   "outputs": [],
   "source": [
    "text = [\n",
    "    [\"the\", \"dog\", \"run\", ],\n",
    "    [\"a\", \"cat\", \"run\", ],\n",
    "    [\"a\", \"dog\", \"sleep\", ],\n",
    "    [\"the\", \"cat\", \"sleep\", ],\n",
    "    [\"a\", \"dog\", \"bark\", ],\n",
    "    [\"the\", \"cat\", \"meows\", ],\n",
    "    [\"the\", \"bird\", \"fly\", ],\n",
    "    [\"a\", \"bird\", \"sleep\", ],\n",
    "]\n",
    "\n",
    "#text"
   ]
  },
  {
   "cell_type": "code",
   "execution_count": 23,
   "metadata": {},
   "outputs": [
    {
     "name": "stdout",
     "output_type": "stream",
     "text": [
      "type of result= <class 'tuple'>\n",
      "there are  3 components in this result\n",
      "(array([[0., 0., 1., 1., 2., 0., 0., 0., 0., 0.],\n",
      "       [0., 0., 0., 0., 1., 0., 0., 0., 0., 0.],\n",
      "       [1., 0., 0., 0., 0., 1., 0., 0., 1., 1.],\n",
      "       [1., 0., 0., 0., 0., 0., 1., 1., 1., 2.],\n",
      "       [2., 1., 0., 0., 0., 0., 0., 1., 1., 1.],\n",
      "       [0., 0., 1., 0., 0., 0., 0., 0., 0., 0.],\n",
      "       [0., 0., 0., 1., 0., 0., 0., 0., 0., 0.],\n",
      "       [0., 0., 0., 1., 1., 0., 0., 0., 0., 0.],\n",
      "       [0., 0., 1., 1., 1., 0., 0., 0., 0., 0.],\n",
      "       [0., 0., 1., 2., 1., 0., 0., 0., 0., 0.]]), {'a': 0, 'bark': 1, 'bird': 2, 'cat': 3, 'dog': 4, 'fly': 5, 'meows': 6, 'run': 7, 'sleep': 8, 'the': 9}, {0: 'a', 1: 'bark', 2: 'bird', 3: 'cat', 4: 'dog', 5: 'fly', 6: 'meows', 7: 'run', 8: 'sleep', 9: 'the'}) \n",
      "\n",
      "[[0. 0. 1. 1. 2. 0. 0. 0. 0. 0.]\n",
      " [0. 0. 0. 0. 1. 0. 0. 0. 0. 0.]\n",
      " [1. 0. 0. 0. 0. 1. 0. 0. 1. 1.]\n",
      " [1. 0. 0. 0. 0. 0. 1. 1. 1. 2.]\n",
      " [2. 1. 0. 0. 0. 0. 0. 1. 1. 1.]\n",
      " [0. 0. 1. 0. 0. 0. 0. 0. 0. 0.]\n",
      " [0. 0. 0. 1. 0. 0. 0. 0. 0. 0.]\n",
      " [0. 0. 0. 1. 1. 0. 0. 0. 0. 0.]\n",
      " [0. 0. 1. 1. 1. 0. 0. 0. 0. 0.]\n",
      " [0. 0. 1. 2. 1. 0. 0. 0. 0. 0.]]\n",
      "{'a': 0, 'bark': 1, 'bird': 2, 'cat': 3, 'dog': 4, 'fly': 5, 'meows': 6, 'run': 7, 'sleep': 8, 'the': 9}\n",
      "{0: 'a', 1: 'bark', 2: 'bird', 3: 'cat', 4: 'dog', 5: 'fly', 6: 'meows', 7: 'run', 8: 'sleep', 9: 'the'}\n"
     ]
    }
   ],
   "source": [
    "# call function build_word_vector, get 3 returns\n",
    "func_build_word_vector(text)\n",
    "\n",
    "print('type of result=', type(func_build_word_vector(text)))\n",
    "print('there are ', len(func_build_word_vector(text)),'components in this result' )\n",
    "print(func_build_word_vector(text),'\\n')\n",
    "\n",
    "for xxx in (func_build_word_vector(text)):\n",
    "    print(xxx)"
   ]
  },
  {
   "cell_type": "code",
   "execution_count": 32,
   "metadata": {},
   "outputs": [
    {
     "name": "stdout",
     "output_type": "stream",
     "text": [
      "<class 'numpy.ndarray'> ; shape= (10, 10)\n",
      "<class 'dict'>  ; length= 10\n",
      "<class 'dict'>  ; length= 10\n"
     ]
    }
   ],
   "source": [
    "#use 3 variable to receive 3 return result in a tuple\n",
    "wvectors, word2id, id2word = func_build_word_vector(text)\n",
    "\n",
    "print(type(wvectors), '; shape=',wvectors.shape)\n",
    "print(type(word2id), ' ; length=', len(word2id))\n",
    "print(type(id2word),' ; length=', len(id2word))"
   ]
  },
  {
   "cell_type": "code",
   "execution_count": 33,
   "metadata": {},
   "outputs": [
    {
     "data": {
      "text/plain": [
       "array([[0., 0., 1., 1., 2., 0., 0., 0., 0., 0.],\n",
       "       [0., 0., 0., 0., 1., 0., 0., 0., 0., 0.],\n",
       "       [1., 0., 0., 0., 0., 1., 0., 0., 1., 1.],\n",
       "       [1., 0., 0., 0., 0., 0., 1., 1., 1., 2.],\n",
       "       [2., 1., 0., 0., 0., 0., 0., 1., 1., 1.],\n",
       "       [0., 0., 1., 0., 0., 0., 0., 0., 0., 0.],\n",
       "       [0., 0., 0., 1., 0., 0., 0., 0., 0., 0.],\n",
       "       [0., 0., 0., 1., 1., 0., 0., 0., 0., 0.],\n",
       "       [0., 0., 1., 1., 1., 0., 0., 0., 0., 0.],\n",
       "       [0., 0., 1., 2., 1., 0., 0., 0., 0., 0.]])"
      ]
     },
     "execution_count": 33,
     "metadata": {},
     "output_type": "execute_result"
    }
   ],
   "source": [
    "wvectors"
   ]
  },
  {
   "cell_type": "code",
   "execution_count": 13,
   "metadata": {},
   "outputs": [
    {
     "data": {
      "text/plain": [
       "{'a': 0,\n",
       " 'bark': 1,\n",
       " 'bird': 2,\n",
       " 'cat': 3,\n",
       " 'dog': 4,\n",
       " 'fly': 5,\n",
       " 'meows': 6,\n",
       " 'run': 7,\n",
       " 'sleep': 8,\n",
       " 'the': 9}"
      ]
     },
     "execution_count": 13,
     "metadata": {},
     "output_type": "execute_result"
    }
   ],
   "source": [
    "word2id"
   ]
  },
  {
   "cell_type": "code",
   "execution_count": 14,
   "metadata": {},
   "outputs": [
    {
     "data": {
      "text/plain": [
       "{0: 'a',\n",
       " 1: 'bark',\n",
       " 2: 'bird',\n",
       " 3: 'cat',\n",
       " 4: 'dog',\n",
       " 5: 'fly',\n",
       " 6: 'meows',\n",
       " 7: 'run',\n",
       " 8: 'sleep',\n",
       " 9: 'the'}"
      ]
     },
     "execution_count": 14,
     "metadata": {},
     "output_type": "execute_result"
    }
   ],
   "source": [
    "id2word"
   ]
  },
  {
   "cell_type": "code",
   "execution_count": 50,
   "metadata": {},
   "outputs": [
    {
     "data": {
      "image/png": "[encoded data removed]",
      "text/plain": [
       "<Figure size 432x288 with 1 Axes>"
      ]
     },
     "metadata": {
      "needs_background": "light"
     },
     "output_type": "display_data"
    }
   ],
   "source": [
    "func_visualize(wvectors, id2word)"
   ]
  },
  {
   "cell_type": "code",
   "execution_count": 47,
   "metadata": {},
   "outputs": [
    {
     "name": "stdout",
     "output_type": "stream",
     "text": [
      "A  dog= [2. 1. 0. 0. 0. 0. 0. 1. 1. 1.]\n",
      "B  cat= [1. 0. 0. 0. 0. 0. 1. 1. 1. 2.] \n",
      "\n",
      "分子 AB矩陣乘積= 6.0\n",
      "分母A平方累計值&開完根號= 2.8284271247461903\n",
      "分母B平方累計值&開完根號= 2.8284271247461903\n",
      "最終分母= 8.000000000000002\n",
      "\n",
      " cosine similarity= 0.75\n"
     ]
    }
   ],
   "source": [
    "#call function func_cosine_sim\n",
    "print('A  dog=', wvectors[word2id[\"dog\"]])\n",
    "print('B  cat=', wvectors[word2id[\"cat\"]], '\\n')\n",
    "\n",
    "A=wvectors[word2id[\"dog\"]]\n",
    "B=wvectors[word2id[\"cat\"]]\n",
    "\n",
    "print('\\n cosine similarity=', f'{ (func_cos_sim_oneline(A,B)) :.2f}')"
   ]
  },
  {
   "cell_type": "code",
   "execution_count": 49,
   "metadata": {},
   "outputs": [
    {
     "name": "stdout",
     "output_type": "stream",
     "text": [
      "A  dog = [2. 1. 0. 0. 0. 0. 0. 1. 1. 1.]\n",
      "B  bird= [1. 0. 0. 0. 0. 1. 0. 0. 1. 1.] \n",
      "\n",
      "分子 AB矩陣乘積= 4.0\n",
      "分母A平方累計值&開完根號= 2.8284271247461903\n",
      "分母B平方累計值&開完根號= 2.0\n",
      "最終分母= 5.656854249492381\n",
      "\n",
      " cosine similarity= 0.71\n"
     ]
    }
   ],
   "source": [
    "print('A  dog =', wvectors[word2id[\"dog\"]])\n",
    "print('B  bird=', wvectors[word2id[\"bird\"]], '\\n')\n",
    "\n",
    "A=wvectors[word2id[\"dog\"]]\n",
    "B=wvectors[word2id[\"bird\"]]\n",
    "\n",
    "print('\\n cosine similarity=', f'{ (func_cos_sim_oneline(A,B)) :.2f}')"
   ]
  },
  {
   "cell_type": "code",
   "execution_count": 51,
   "metadata": {},
   "outputs": [],
   "source": [
    "text = [\n",
    "    [\"這\", \"台\", \"車\", \"真好\", \"我\", \"從來\", \"不開他\", ],\n",
    "    [\"這\", \"台\", \"手機\", \"真好\", \"我\", \"從來\", \"不用他\", ],\n",
    "    [\"這\", \"台\", \"機車\", \"真好\", \"我\", \"從來\", \"不騎他\", ],\n",
    "    [\"這\", \"碗\", \"咖哩飯\", \"真好吃\", \"我\", \"經常\", \"來吃\", ],\n",
    "    [\"這\", \"碗\", \"義大利麵\", \"真好吃\", \"我\", \"經常\", \"來餐廳吃\", ],\n",
    "    [\"這\", \"台\", \"車\", \"真好開\", \"我\", \"經常\", \"開出門\", ],\n",
    "]"
   ]
  },
  {
   "cell_type": "code",
   "execution_count": 53,
   "metadata": {},
   "outputs": [],
   "source": [
    "func_build_word_vector(text)\n",
    "wvectors, word2id, id2word = func_build_word_vector(text)"
   ]
  },
  {
   "cell_type": "code",
   "execution_count": 61,
   "metadata": {},
   "outputs": [
    {
     "data": {
      "text/plain": [
       "array([[0., 0., 0., 0., 0., 0., 0., 1., 0., 0., 0., 0., 0., 0., 0., 0.,\n",
       "        0., 0., 0., 0.],\n",
       "       [0., 0., 0., 0., 0., 0., 0., 1., 0., 0., 0., 0., 0., 0., 0., 0.,\n",
       "        0., 0., 0., 0.],\n",
       "       [0., 0., 0., 0., 0., 0., 0., 1., 0., 0., 0., 0., 0., 0., 0., 0.,\n",
       "        0., 0., 0., 0.],\n",
       "       [0., 0., 0., 0., 0., 0., 0., 0., 0., 0., 0., 0., 0., 0., 0., 1.,\n",
       "        0., 0., 0., 0.],\n",
       "       [0., 0., 0., 0., 0., 0., 0., 0., 0., 0., 0., 0., 0., 0., 0., 1.,\n",
       "        0., 0., 0., 0.],\n",
       "       [0., 0., 0., 0., 0., 0., 0., 0., 0., 1., 1., 0., 0., 0., 0., 0.,\n",
       "        0., 2., 4., 0.],\n",
       "       [0., 0., 0., 0., 0., 0., 0., 0., 0., 0., 0., 0., 1., 0., 1., 0.,\n",
       "        0., 0., 0., 0.],\n",
       "       [1., 1., 1., 0., 0., 0., 0., 0., 3., 0., 0., 0., 0., 0., 0., 0.,\n",
       "        0., 0., 0., 0.],\n",
       "       [0., 0., 0., 0., 0., 0., 0., 3., 0., 0., 0., 3., 2., 1., 0., 3.,\n",
       "        0., 0., 0., 0.],\n",
       "       [0., 0., 0., 0., 0., 1., 0., 0., 0., 0., 0., 1., 0., 0., 0., 0.,\n",
       "        0., 0., 0., 0.],\n",
       "       [0., 0., 0., 0., 0., 1., 0., 0., 0., 0., 0., 1., 0., 0., 0., 0.,\n",
       "        0., 0., 0., 0.],\n",
       "       [0., 0., 0., 0., 0., 0., 0., 0., 3., 1., 1., 0., 0., 0., 0., 0.,\n",
       "        0., 1., 0., 0.],\n",
       "       [0., 0., 0., 0., 0., 0., 1., 0., 2., 0., 0., 0., 0., 0., 0., 0.,\n",
       "        1., 0., 0., 0.],\n",
       "       [0., 0., 0., 0., 0., 0., 0., 0., 1., 0., 0., 0., 0., 0., 0., 0.,\n",
       "        0., 1., 0., 0.],\n",
       "       [0., 0., 0., 0., 0., 0., 1., 0., 0., 0., 0., 0., 0., 0., 0., 0.,\n",
       "        1., 0., 2., 0.],\n",
       "       [0., 0., 0., 1., 1., 0., 0., 0., 3., 0., 0., 0., 0., 0., 0., 0.,\n",
       "        0., 0., 0., 1.],\n",
       "       [0., 0., 0., 0., 0., 0., 0., 0., 0., 0., 0., 0., 1., 0., 1., 0.,\n",
       "        0., 0., 0., 0.],\n",
       "       [0., 0., 0., 0., 0., 2., 0., 0., 0., 0., 0., 1., 0., 1., 0., 0.,\n",
       "        0., 0., 0., 0.],\n",
       "       [0., 0., 0., 0., 0., 4., 0., 0., 0., 0., 0., 0., 0., 0., 2., 0.,\n",
       "        0., 0., 0., 0.],\n",
       "       [0., 0., 0., 0., 0., 0., 0., 0., 0., 0., 0., 0., 0., 0., 0., 1.,\n",
       "        0., 0., 0., 0.]])"
      ]
     },
     "execution_count": 61,
     "metadata": {},
     "output_type": "execute_result"
    }
   ],
   "source": [
    "wvectors"
   ]
  },
  {
   "cell_type": "code",
   "execution_count": 76,
   "metadata": {},
   "outputs": [
    {
     "name": "stdout",
     "output_type": "stream",
     "text": [
      "10\n",
      "9\n",
      "機車\n",
      "手機\n",
      "[0. 0. 0. 0. 0. 1. 0. 0. 0. 0. 0. 1. 0. 0. 0. 0. 0. 0. 0. 0.]\n"
     ]
    }
   ],
   "source": [
    "print(word2id['機車'])\n",
    "print(word2id['手機'])\n",
    "print(id2word[10])\n",
    "print(id2word[9])\n",
    "print(wvectors[10])"
   ]
  },
  {
   "cell_type": "code",
   "execution_count": null,
   "metadata": {},
   "outputs": [],
   "source": []
  },
  {
   "cell_type": "code",
   "execution_count": 82,
   "metadata": {},
   "outputs": [
    {
     "data": {
      "image/png": "[encoded data removed]",
      "text/plain": [
       "<Figure size 432x288 with 1 Axes>"
      ]
     },
     "metadata": {
      "needs_background": "light"
     },
     "output_type": "display_data"
    },
    {
     "data": {
      "text/plain": [
       "<Figure size 720x360 with 0 Axes>"
      ]
     },
     "metadata": {},
     "output_type": "display_data"
    }
   ],
   "source": [
    "plt.rcParams['font.sans-serif'] = 'SimHei'\n",
    "\n",
    "func_visualize(wvectors, id2word)"
   ]
  },
  {
   "cell_type": "code",
   "execution_count": 54,
   "metadata": {},
   "outputs": [
    {
     "name": "stdout",
     "output_type": "stream",
     "text": [
      "A  真好 = [0. 0. 0. 0. 0. 0. 0. 0. 3. 1. 1. 0. 0. 0. 0. 0. 0. 1. 0. 0.]\n",
      "B  真好吃= [0. 0. 0. 0. 0. 0. 1. 0. 2. 0. 0. 0. 0. 0. 0. 0. 1. 0. 0. 0.] \n",
      "\n",
      "分子 AB矩陣乘積= 6.0\n",
      "分母A平方累計值&開完根號= 3.4641016151377544\n",
      "分母B平方累計值&開完根號= 2.449489742783178\n",
      "最終分母= 8.48528137423857\n",
      "\n",
      " cosine similarity= 0.71\n"
     ]
    }
   ],
   "source": [
    "print('A  真好 =', wvectors[word2id[\"真好\"]])\n",
    "print('B  真好吃=', wvectors[word2id[\"真好吃\"]], '\\n')\n",
    "\n",
    "A=wvectors[word2id[\"真好\"]]\n",
    "B=wvectors[word2id[\"真好吃\"]]\n",
    "\n",
    "print('\\n cosine similarity=', f'{ (func_cos_sim_oneline(A,B)) :.2f}')"
   ]
  },
  {
   "cell_type": "code",
   "execution_count": 55,
   "metadata": {},
   "outputs": [
    {
     "name": "stdout",
     "output_type": "stream",
     "text": [
      "A  機車 = [0. 0. 0. 0. 0. 1. 0. 0. 0. 0. 0. 1. 0. 0. 0. 0. 0. 0. 0. 0.]\n",
      "B  手機= [0. 0. 0. 0. 0. 1. 0. 0. 0. 0. 0. 1. 0. 0. 0. 0. 0. 0. 0. 0.] \n",
      "\n",
      "分子 AB矩陣乘積= 2.0\n",
      "分母A平方累計值&開完根號= 1.4142135623730951\n",
      "分母B平方累計值&開完根號= 1.4142135623730951\n",
      "最終分母= 2.0000000000000004\n",
      "\n",
      " cosine similarity= 1.00\n"
     ]
    }
   ],
   "source": [
    "print('A  機車 =', wvectors[word2id[\"機車\"]])\n",
    "print('B  手機 =', wvectors[word2id[\"手機\"]], '\\n')\n",
    "\n",
    "A=wvectors[word2id[\"機車\"]]\n",
    "B=wvectors[word2id[\"手機\"]]\n",
    "\n",
    "print('\\n cosine similarity=', f'{ (func_cos_sim_oneline(A,B)) :.2f}')"
   ]
  },
  {
   "cell_type": "code",
   "execution_count": 57,
   "metadata": {},
   "outputs": [
    {
     "name": "stdout",
     "output_type": "stream",
     "text": [
      "A  咖哩飯   = [0. 0. 0. 0. 0. 0. 0. 0. 0. 0. 0. 0. 1. 0. 1. 0. 0. 0. 0. 0.]\n",
      "B  義大利麵 = [0. 0. 0. 0. 0. 0. 0. 0. 0. 0. 0. 0. 1. 0. 1. 0. 0. 0. 0. 0.] \n",
      "\n",
      "分子 AB矩陣乘積= 2.0\n",
      "分母A平方累計值&開完根號= 1.4142135623730951\n",
      "分母B平方累計值&開完根號= 1.4142135623730951\n",
      "最終分母= 2.0000000000000004\n",
      "\n",
      " cosine similarity= 1.00\n"
     ]
    }
   ],
   "source": [
    "print('A  咖哩飯   =', wvectors[word2id[\"咖哩飯\"]])\n",
    "print('B  義大利麵 =', wvectors[word2id[\"義大利麵\"]], '\\n')\n",
    "\n",
    "A=wvectors[word2id[\"咖哩飯\"]]\n",
    "B=wvectors[word2id[\"義大利麵\"]]\n",
    "\n",
    "print('\\n cosine similarity=', f'{ (func_cos_sim_oneline(A,B)) :.2f}')"
   ]
  },
  {
   "cell_type": "code",
   "execution_count": null,
   "metadata": {},
   "outputs": [],
   "source": []
  }
 ],
 "metadata": {
  "kernelspec": {
   "display_name": "Python 3",
   "language": "python",
   "name": "python3"
  },
  "language_info": {
   "codemirror_mode": {
    "name": "ipython",
    "version": 3
   },
   "file_extension": ".py",
   "mimetype": "text/x-python",
   "name": "python",
   "nbconvert_exporter": "python",
   "pygments_lexer": "ipython3",
   "version": "3.7.3"
  }
 },
 "nbformat": 4,
 "nbformat_minor": 2
}
