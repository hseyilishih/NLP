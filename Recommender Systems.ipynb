{
 "cells": [
  {
   "cell_type": "code",
   "execution_count": 2,
   "metadata": {
    "collapsed": true
   },
   "outputs": [],
   "source": [
    "import pandas as pd\n",
    "import numpy as np"
   ]
  },
  {
   "cell_type": "code",
   "execution_count": 3,
   "metadata": {},
   "outputs": [
    {
     "data": {
      "text/html": [
       "<div>\n",
       "<style>\n",
       "    .dataframe thead tr:only-child th {\n",
       "        text-align: right;\n",
       "    }\n",
       "\n",
       "    .dataframe thead th {\n",
       "        text-align: left;\n",
       "    }\n",
       "\n",
       "    .dataframe tbody tr th {\n",
       "        vertical-align: top;\n",
       "    }\n",
       "</style>\n",
       "<table border=\"1\" class=\"dataframe\">\n",
       "  <thead>\n",
       "    <tr style=\"text-align: right;\">\n",
       "      <th></th>\n",
       "      <th>user_id</th>\n",
       "      <th>movie_id</th>\n",
       "      <th>rating</th>\n",
       "      <th>timestamp</th>\n",
       "    </tr>\n",
       "  </thead>\n",
       "  <tbody>\n",
       "    <tr>\n",
       "      <th>0</th>\n",
       "      <td>196</td>\n",
       "      <td>242</td>\n",
       "      <td>3</td>\n",
       "      <td>881250949</td>\n",
       "    </tr>\n",
       "    <tr>\n",
       "      <th>1</th>\n",
       "      <td>186</td>\n",
       "      <td>302</td>\n",
       "      <td>3</td>\n",
       "      <td>891717742</td>\n",
       "    </tr>\n",
       "    <tr>\n",
       "      <th>2</th>\n",
       "      <td>22</td>\n",
       "      <td>377</td>\n",
       "      <td>1</td>\n",
       "      <td>878887116</td>\n",
       "    </tr>\n",
       "    <tr>\n",
       "      <th>3</th>\n",
       "      <td>244</td>\n",
       "      <td>51</td>\n",
       "      <td>2</td>\n",
       "      <td>880606923</td>\n",
       "    </tr>\n",
       "    <tr>\n",
       "      <th>4</th>\n",
       "      <td>166</td>\n",
       "      <td>346</td>\n",
       "      <td>1</td>\n",
       "      <td>886397596</td>\n",
       "    </tr>\n",
       "  </tbody>\n",
       "</table>\n",
       "</div>"
      ],
      "text/plain": [
       "   user_id  movie_id  rating  timestamp\n",
       "0      196       242       3  881250949\n",
       "1      186       302       3  891717742\n",
       "2       22       377       1  878887116\n",
       "3      244        51       2  880606923\n",
       "4      166       346       1  886397596"
      ]
     },
     "execution_count": 3,
     "metadata": {},
     "output_type": "execute_result"
    }
   ],
   "source": [
    "header = ['user_id', 'movie_id', 'rating', 'timestamp']\n",
    "df_ratings = pd.read_csv('Data/u.data', sep='\\t', names=header)\n",
    "df_ratings.head()"
   ]
  },
  {
   "cell_type": "code",
   "execution_count": 4,
   "metadata": {},
   "outputs": [
    {
     "data": {
      "text/html": [
       "<div>\n",
       "<style>\n",
       "    .dataframe thead tr:only-child th {\n",
       "        text-align: right;\n",
       "    }\n",
       "\n",
       "    .dataframe thead th {\n",
       "        text-align: left;\n",
       "    }\n",
       "\n",
       "    .dataframe tbody tr th {\n",
       "        vertical-align: top;\n",
       "    }\n",
       "</style>\n",
       "<table border=\"1\" class=\"dataframe\">\n",
       "  <thead>\n",
       "    <tr>\n",
       "      <th></th>\n",
       "      <th colspan=\"2\" halign=\"left\">rating</th>\n",
       "    </tr>\n",
       "    <tr>\n",
       "      <th></th>\n",
       "      <th>size</th>\n",
       "      <th>mean</th>\n",
       "    </tr>\n",
       "    <tr>\n",
       "      <th>movie_id</th>\n",
       "      <th></th>\n",
       "      <th></th>\n",
       "    </tr>\n",
       "  </thead>\n",
       "  <tbody>\n",
       "    <tr>\n",
       "      <th>1</th>\n",
       "      <td>452</td>\n",
       "      <td>3.878319</td>\n",
       "    </tr>\n",
       "    <tr>\n",
       "      <th>2</th>\n",
       "      <td>131</td>\n",
       "      <td>3.206107</td>\n",
       "    </tr>\n",
       "    <tr>\n",
       "      <th>3</th>\n",
       "      <td>90</td>\n",
       "      <td>3.033333</td>\n",
       "    </tr>\n",
       "    <tr>\n",
       "      <th>4</th>\n",
       "      <td>209</td>\n",
       "      <td>3.550239</td>\n",
       "    </tr>\n",
       "    <tr>\n",
       "      <th>5</th>\n",
       "      <td>86</td>\n",
       "      <td>3.302326</td>\n",
       "    </tr>\n",
       "  </tbody>\n",
       "</table>\n",
       "</div>"
      ],
      "text/plain": [
       "         rating          \n",
       "           size      mean\n",
       "movie_id                 \n",
       "1           452  3.878319\n",
       "2           131  3.206107\n",
       "3            90  3.033333\n",
       "4           209  3.550239\n",
       "5            86  3.302326"
      ]
     },
     "execution_count": 4,
     "metadata": {},
     "output_type": "execute_result"
    }
   ],
   "source": [
    "movie_details = df_ratings.groupby('movie_id').agg({'rating':\n",
    "                                                   [np.size, np.mean]})\n",
    "movie_details.head()"
   ]
  },
  {
   "cell_type": "code",
   "execution_count": 5,
   "metadata": {},
   "outputs": [
    {
     "data": {
      "text/html": [
       "<div>\n",
       "<style>\n",
       "    .dataframe thead tr:only-child th {\n",
       "        text-align: right;\n",
       "    }\n",
       "\n",
       "    .dataframe thead th {\n",
       "        text-align: left;\n",
       "    }\n",
       "\n",
       "    .dataframe tbody tr th {\n",
       "        vertical-align: top;\n",
       "    }\n",
       "</style>\n",
       "<table border=\"1\" class=\"dataframe\">\n",
       "  <thead>\n",
       "    <tr style=\"text-align: right;\">\n",
       "      <th></th>\n",
       "      <th>movie_id</th>\n",
       "      <th>title</th>\n",
       "      <th>user_id</th>\n",
       "      <th>rating</th>\n",
       "      <th>timestamp</th>\n",
       "    </tr>\n",
       "  </thead>\n",
       "  <tbody>\n",
       "    <tr>\n",
       "      <th>33615</th>\n",
       "      <td>218</td>\n",
       "      <td>Cape Fear (1991)</td>\n",
       "      <td>388</td>\n",
       "      <td>5</td>\n",
       "      <td>886441083</td>\n",
       "    </tr>\n",
       "    <tr>\n",
       "      <th>53455</th>\n",
       "      <td>357</td>\n",
       "      <td>One Flew Over the Cuckoo's Nest (1975)</td>\n",
       "      <td>532</td>\n",
       "      <td>5</td>\n",
       "      <td>892519935</td>\n",
       "    </tr>\n",
       "    <tr>\n",
       "      <th>53463</th>\n",
       "      <td>357</td>\n",
       "      <td>One Flew Over the Cuckoo's Nest (1975)</td>\n",
       "      <td>499</td>\n",
       "      <td>5</td>\n",
       "      <td>885599372</td>\n",
       "    </tr>\n",
       "    <tr>\n",
       "      <th>31674</th>\n",
       "      <td>208</td>\n",
       "      <td>Young Frankenstein (1974)</td>\n",
       "      <td>643</td>\n",
       "      <td>5</td>\n",
       "      <td>891448136</td>\n",
       "    </tr>\n",
       "    <tr>\n",
       "      <th>17608</th>\n",
       "      <td>125</td>\n",
       "      <td>Phenomenon (1996)</td>\n",
       "      <td>109</td>\n",
       "      <td>5</td>\n",
       "      <td>880564534</td>\n",
       "    </tr>\n",
       "  </tbody>\n",
       "</table>\n",
       "</div>"
      ],
      "text/plain": [
       "       movie_id                                   title  user_id  rating  \\\n",
       "33615       218                        Cape Fear (1991)      388       5   \n",
       "53455       357  One Flew Over the Cuckoo's Nest (1975)      532       5   \n",
       "53463       357  One Flew Over the Cuckoo's Nest (1975)      499       5   \n",
       "31674       208               Young Frankenstein (1974)      643       5   \n",
       "17608       125                       Phenomenon (1996)      109       5   \n",
       "\n",
       "       timestamp  \n",
       "33615  886441083  \n",
       "53455  892519935  \n",
       "53463  885599372  \n",
       "31674  891448136  \n",
       "17608  880564534  "
      ]
     },
     "execution_count": 5,
     "metadata": {},
     "output_type": "execute_result"
    }
   ],
   "source": [
    "cols = ['movie_id', 'title']\n",
    "#latin-1西歐語言編碼\n",
    "movies = pd.read_csv('Data/u.item', sep='|', names=cols, usecols=range(2), encoding='latin-1')\n",
    "ratings_titles = pd.merge(movies, df_ratings).sort_values(['rating'], ascending=False)\n",
    "ratings_titles.head()"
   ]
  },
  {
   "cell_type": "code",
   "execution_count": 55,
   "metadata": {},
   "outputs": [
    {
     "data": {
      "text/plain": [
       "['Cape Fear (1991)',\n",
       " \"One Flew Over the Cuckoo's Nest (1975)\",\n",
       " \"One Flew Over the Cuckoo's Nest (1975)\"]"
      ]
     },
     "execution_count": 55,
     "metadata": {},
     "output_type": "execute_result"
    }
   ],
   "source": [
    "#試試相似度衡量來做影片名稱關聯推薦 #Funtime\n",
    "list(ratings_titles.title[0:3])"
   ]
  },
  {
   "cell_type": "code",
   "execution_count": 47,
   "metadata": {
    "collapsed": true
   },
   "outputs": [],
   "source": [
    "def Bag_of_Words(raw_corpus):  \n",
    "    import jieba\n",
    "    from sklearn.feature_extraction.text import CountVectorizer\n",
    "    corpus = [] \n",
    "    for x in raw_corpus:\n",
    "        corpus.append(x)\n",
    "        #corpus.append(' '.join(jieba.cut(x)))\n",
    "    vectorizer = CountVectorizer()\n",
    "    corpus_matrix = vectorizer.fit_transform(corpus)\n",
    "    return corpus_matrix.toarray()"
   ]
  },
  {
   "cell_type": "code",
   "execution_count": 58,
   "metadata": {
    "collapsed": true
   },
   "outputs": [],
   "source": [
    "x1,x2,x3 = Bag_of_Words(list(ratings_titles.title[0:3]))"
   ]
  },
  {
   "cell_type": "code",
   "execution_count": 60,
   "metadata": {},
   "outputs": [
    {
     "name": "stdout",
     "output_type": "stream",
     "text": [
      "0.0\n"
     ]
    }
   ],
   "source": [
    "def cosine_similarity(x1,x2):    \n",
    "    import math\n",
    "    sum_x_and_x, sum_x_and_y, sum_y_and_y = 0, 0, 0\n",
    "    for i in range(len(x1)):\n",
    "        x = x1[i]\n",
    "        y = x2[i]\n",
    "        sum_x_and_x += x*x\n",
    "        sum_y_and_y += y*y\n",
    "        sum_x_and_y += x*y\n",
    "    return sum_x_and_y/math.sqrt(sum_x_and_x * sum_y_and_y)\n",
    "print(cosine_similarity(x1,x3))"
   ]
  },
  {
   "cell_type": "markdown",
   "metadata": {},
   "source": [
    "## Similarity matrix"
   ]
  },
  {
   "cell_type": "code",
   "execution_count": 6,
   "metadata": {},
   "outputs": [
    {
     "data": {
      "text/html": [
       "<div>\n",
       "<style>\n",
       "    .dataframe thead tr:only-child th {\n",
       "        text-align: right;\n",
       "    }\n",
       "\n",
       "    .dataframe thead th {\n",
       "        text-align: left;\n",
       "    }\n",
       "\n",
       "    .dataframe tbody tr th {\n",
       "        vertical-align: top;\n",
       "    }\n",
       "</style>\n",
       "<table border=\"1\" class=\"dataframe\">\n",
       "  <thead>\n",
       "    <tr style=\"text-align: right;\">\n",
       "      <th>movie_id</th>\n",
       "      <th>1</th>\n",
       "      <th>2</th>\n",
       "      <th>3</th>\n",
       "      <th>4</th>\n",
       "      <th>5</th>\n",
       "      <th>6</th>\n",
       "      <th>7</th>\n",
       "      <th>8</th>\n",
       "      <th>9</th>\n",
       "      <th>10</th>\n",
       "      <th>...</th>\n",
       "      <th>1673</th>\n",
       "      <th>1674</th>\n",
       "      <th>1675</th>\n",
       "      <th>1676</th>\n",
       "      <th>1677</th>\n",
       "      <th>1678</th>\n",
       "      <th>1679</th>\n",
       "      <th>1680</th>\n",
       "      <th>1681</th>\n",
       "      <th>1682</th>\n",
       "    </tr>\n",
       "    <tr>\n",
       "      <th>user_id</th>\n",
       "      <th></th>\n",
       "      <th></th>\n",
       "      <th></th>\n",
       "      <th></th>\n",
       "      <th></th>\n",
       "      <th></th>\n",
       "      <th></th>\n",
       "      <th></th>\n",
       "      <th></th>\n",
       "      <th></th>\n",
       "      <th></th>\n",
       "      <th></th>\n",
       "      <th></th>\n",
       "      <th></th>\n",
       "      <th></th>\n",
       "      <th></th>\n",
       "      <th></th>\n",
       "      <th></th>\n",
       "      <th></th>\n",
       "      <th></th>\n",
       "      <th></th>\n",
       "    </tr>\n",
       "  </thead>\n",
       "  <tbody>\n",
       "    <tr>\n",
       "      <th>1</th>\n",
       "      <td>5.0</td>\n",
       "      <td>3.0</td>\n",
       "      <td>4.0</td>\n",
       "      <td>3.0</td>\n",
       "      <td>3.0</td>\n",
       "      <td>5.0</td>\n",
       "      <td>4.0</td>\n",
       "      <td>1.0</td>\n",
       "      <td>5.0</td>\n",
       "      <td>3.0</td>\n",
       "      <td>...</td>\n",
       "      <td>0.0</td>\n",
       "      <td>0.0</td>\n",
       "      <td>0.0</td>\n",
       "      <td>0.0</td>\n",
       "      <td>0.0</td>\n",
       "      <td>0.0</td>\n",
       "      <td>0.0</td>\n",
       "      <td>0.0</td>\n",
       "      <td>0.0</td>\n",
       "      <td>0.0</td>\n",
       "    </tr>\n",
       "    <tr>\n",
       "      <th>2</th>\n",
       "      <td>4.0</td>\n",
       "      <td>0.0</td>\n",
       "      <td>0.0</td>\n",
       "      <td>0.0</td>\n",
       "      <td>0.0</td>\n",
       "      <td>0.0</td>\n",
       "      <td>0.0</td>\n",
       "      <td>0.0</td>\n",
       "      <td>0.0</td>\n",
       "      <td>2.0</td>\n",
       "      <td>...</td>\n",
       "      <td>0.0</td>\n",
       "      <td>0.0</td>\n",
       "      <td>0.0</td>\n",
       "      <td>0.0</td>\n",
       "      <td>0.0</td>\n",
       "      <td>0.0</td>\n",
       "      <td>0.0</td>\n",
       "      <td>0.0</td>\n",
       "      <td>0.0</td>\n",
       "      <td>0.0</td>\n",
       "    </tr>\n",
       "    <tr>\n",
       "      <th>3</th>\n",
       "      <td>0.0</td>\n",
       "      <td>0.0</td>\n",
       "      <td>0.0</td>\n",
       "      <td>0.0</td>\n",
       "      <td>0.0</td>\n",
       "      <td>0.0</td>\n",
       "      <td>0.0</td>\n",
       "      <td>0.0</td>\n",
       "      <td>0.0</td>\n",
       "      <td>0.0</td>\n",
       "      <td>...</td>\n",
       "      <td>0.0</td>\n",
       "      <td>0.0</td>\n",
       "      <td>0.0</td>\n",
       "      <td>0.0</td>\n",
       "      <td>0.0</td>\n",
       "      <td>0.0</td>\n",
       "      <td>0.0</td>\n",
       "      <td>0.0</td>\n",
       "      <td>0.0</td>\n",
       "      <td>0.0</td>\n",
       "    </tr>\n",
       "    <tr>\n",
       "      <th>4</th>\n",
       "      <td>0.0</td>\n",
       "      <td>0.0</td>\n",
       "      <td>0.0</td>\n",
       "      <td>0.0</td>\n",
       "      <td>0.0</td>\n",
       "      <td>0.0</td>\n",
       "      <td>0.0</td>\n",
       "      <td>0.0</td>\n",
       "      <td>0.0</td>\n",
       "      <td>0.0</td>\n",
       "      <td>...</td>\n",
       "      <td>0.0</td>\n",
       "      <td>0.0</td>\n",
       "      <td>0.0</td>\n",
       "      <td>0.0</td>\n",
       "      <td>0.0</td>\n",
       "      <td>0.0</td>\n",
       "      <td>0.0</td>\n",
       "      <td>0.0</td>\n",
       "      <td>0.0</td>\n",
       "      <td>0.0</td>\n",
       "    </tr>\n",
       "    <tr>\n",
       "      <th>5</th>\n",
       "      <td>4.0</td>\n",
       "      <td>3.0</td>\n",
       "      <td>0.0</td>\n",
       "      <td>0.0</td>\n",
       "      <td>0.0</td>\n",
       "      <td>0.0</td>\n",
       "      <td>0.0</td>\n",
       "      <td>0.0</td>\n",
       "      <td>0.0</td>\n",
       "      <td>0.0</td>\n",
       "      <td>...</td>\n",
       "      <td>0.0</td>\n",
       "      <td>0.0</td>\n",
       "      <td>0.0</td>\n",
       "      <td>0.0</td>\n",
       "      <td>0.0</td>\n",
       "      <td>0.0</td>\n",
       "      <td>0.0</td>\n",
       "      <td>0.0</td>\n",
       "      <td>0.0</td>\n",
       "      <td>0.0</td>\n",
       "    </tr>\n",
       "  </tbody>\n",
       "</table>\n",
       "<p>5 rows × 1682 columns</p>\n",
       "</div>"
      ],
      "text/plain": [
       "movie_id  1     2     3     4     5     6     7     8     9     10    ...   \\\n",
       "user_id                                                               ...    \n",
       "1          5.0   3.0   4.0   3.0   3.0   5.0   4.0   1.0   5.0   3.0  ...    \n",
       "2          4.0   0.0   0.0   0.0   0.0   0.0   0.0   0.0   0.0   2.0  ...    \n",
       "3          0.0   0.0   0.0   0.0   0.0   0.0   0.0   0.0   0.0   0.0  ...    \n",
       "4          0.0   0.0   0.0   0.0   0.0   0.0   0.0   0.0   0.0   0.0  ...    \n",
       "5          4.0   3.0   0.0   0.0   0.0   0.0   0.0   0.0   0.0   0.0  ...    \n",
       "\n",
       "movie_id  1673  1674  1675  1676  1677  1678  1679  1680  1681  1682  \n",
       "user_id                                                               \n",
       "1          0.0   0.0   0.0   0.0   0.0   0.0   0.0   0.0   0.0   0.0  \n",
       "2          0.0   0.0   0.0   0.0   0.0   0.0   0.0   0.0   0.0   0.0  \n",
       "3          0.0   0.0   0.0   0.0   0.0   0.0   0.0   0.0   0.0   0.0  \n",
       "4          0.0   0.0   0.0   0.0   0.0   0.0   0.0   0.0   0.0   0.0  \n",
       "5          0.0   0.0   0.0   0.0   0.0   0.0   0.0   0.0   0.0   0.0  \n",
       "\n",
       "[5 rows x 1682 columns]"
      ]
     },
     "execution_count": 6,
     "metadata": {},
     "output_type": "execute_result"
    }
   ],
   "source": [
    "#透過rating做相似度矩陣\n",
    "ratings_ = df_ratings.pivot(index = 'user_id', columns ='movie_id', values = 'rating').fillna(0)\n",
    "ratings_.head(5)"
   ]
  },
  {
   "cell_type": "code",
   "execution_count": 8,
   "metadata": {},
   "outputs": [
    {
     "data": {
      "text/plain": [
       "array([[ 5.,  3.,  4., ...,  0.,  0.,  0.],\n",
       "       [ 4.,  0.,  0., ...,  0.,  0.,  0.],\n",
       "       [ 0.,  0.,  0., ...,  0.,  0.,  0.],\n",
       "       ..., \n",
       "       [ 5.,  0.,  0., ...,  0.,  0.,  0.],\n",
       "       [ 0.,  0.,  0., ...,  0.,  0.,  0.],\n",
       "       [ 0.,  5.,  0., ...,  0.,  0.,  0.]])"
      ]
     },
     "execution_count": 8,
     "metadata": {},
     "output_type": "execute_result"
    }
   ],
   "source": [
    "matrix = ratings_.as_matrix()\n",
    "matrix "
   ]
  },
  {
   "cell_type": "code",
   "execution_count": 10,
   "metadata": {
    "collapsed": true
   },
   "outputs": [],
   "source": [
    "from sklearn.model_selection import train_test_split"
   ]
  },
  {
   "cell_type": "code",
   "execution_count": 11,
   "metadata": {
    "collapsed": true
   },
   "outputs": [],
   "source": [
    "ratings_train, ratings_test = train_test_split(matrix, test_size=0.3, random_state=42)"
   ]
  },
  {
   "cell_type": "code",
   "execution_count": 12,
   "metadata": {},
   "outputs": [
    {
     "data": {
      "text/plain": [
       "(660, 1682)"
      ]
     },
     "execution_count": 12,
     "metadata": {},
     "output_type": "execute_result"
    }
   ],
   "source": [
    "ratings_train.shape"
   ]
  },
  {
   "cell_type": "code",
   "execution_count": 13,
   "metadata": {},
   "outputs": [
    {
     "data": {
      "text/plain": [
       "(283, 1682)"
      ]
     },
     "execution_count": 13,
     "metadata": {},
     "output_type": "execute_result"
    }
   ],
   "source": [
    "ratings_test.shape"
   ]
  },
  {
   "cell_type": "markdown",
   "metadata": {},
   "source": [
    "## Finding the top N nearest neighbors"
   ]
  },
  {
   "cell_type": "code",
   "execution_count": 14,
   "metadata": {
    "collapsed": true
   },
   "outputs": [],
   "source": [
    "from sklearn.neighbors import NearestNeighbors\n",
    "k = 5"
   ]
  },
  {
   "cell_type": "code",
   "execution_count": 15,
   "metadata": {
    "collapsed": true
   },
   "outputs": [],
   "source": [
    "knn = NearestNeighbors(k, 'cosine')"
   ]
  },
  {
   "cell_type": "code",
   "execution_count": 16,
   "metadata": {},
   "outputs": [
    {
     "data": {
      "text/plain": [
       "NearestNeighbors(algorithm='auto', leaf_size=30, metric='minkowski',\n",
       "         metric_params=None, n_jobs=1, n_neighbors=5, p=2, radius='cosine')"
      ]
     },
     "execution_count": 16,
     "metadata": {},
     "output_type": "execute_result"
    }
   ],
   "source": [
    "knn.fit(ratings_train)"
   ]
  },
  {
   "cell_type": "code",
   "execution_count": 18,
   "metadata": {
    "collapsed": true
   },
   "outputs": [],
   "source": [
    "top_k_dist, top_k_users = knn.kneighbors(ratings_train, return_distance=True)"
   ]
  },
  {
   "cell_type": "code",
   "execution_count": 25,
   "metadata": {},
   "outputs": [
    {
     "data": {
      "text/plain": [
       "(660, 5)"
      ]
     },
     "execution_count": 25,
     "metadata": {},
     "output_type": "execute_result"
    }
   ],
   "source": [
    "top_k_dist.shape\n",
    "top_k_users.shape"
   ]
  },
  {
   "cell_type": "markdown",
   "metadata": {},
   "source": [
    "## Top 5, similar users to user 1:"
   ]
  },
  {
   "cell_type": "code",
   "execution_count": 30,
   "metadata": {},
   "outputs": [
    {
     "data": {
      "text/plain": [
       "array([  0, 211,  16, 583, 428])"
      ]
     },
     "execution_count": 30,
     "metadata": {},
     "output_type": "execute_result"
    }
   ],
   "source": [
    "top_k_users[0][:5] #接近的user"
   ]
  },
  {
   "cell_type": "code",
   "execution_count": 31,
   "metadata": {},
   "outputs": [
    {
     "data": {
      "text/plain": [
       "array([  0.        ,  41.71330723,  43.3474336 ,  45.04442252,  45.04442252])"
      ]
     },
     "execution_count": 31,
     "metadata": {},
     "output_type": "execute_result"
    }
   ],
   "source": [
    "top_k_dist[0][:5]"
   ]
  },
  {
   "cell_type": "code",
   "execution_count": 32,
   "metadata": {
    "collapsed": true
   },
   "outputs": [],
   "source": [
    "#Prediction matrix for rating movies:\n",
    "#為每個用戶選擇前5位用戶並使用他們的評級信息\n",
    "#同時使用所有的加權和來預測評級\n",
    "#前5名類似用戶的評分。"
   ]
  },
  {
   "cell_type": "code",
   "execution_count": 33,
   "metadata": {},
   "outputs": [
    {
     "data": {
      "text/plain": [
       "(660, 1682)"
      ]
     },
     "execution_count": 33,
     "metadata": {},
     "output_type": "execute_result"
    }
   ],
   "source": [
    "user_pred = np.zeros(ratings_train.shape)\n",
    "for i in range(ratings_train.shape[0]):\n",
    "    user_pred[i,:] = top_k_dist[i].T.dot(ratings_train[top_k_users][i])/np.array([np.abs(top_k_dist[i].T).sum(axis=0)]).T\n",
    "\n",
    "user_pred.shape"
   ]
  },
  {
   "cell_type": "code",
   "execution_count": 34,
   "metadata": {},
   "outputs": [
    {
     "data": {
      "text/html": [
       "<div>\n",
       "<style>\n",
       "    .dataframe thead tr:only-child th {\n",
       "        text-align: right;\n",
       "    }\n",
       "\n",
       "    .dataframe thead th {\n",
       "        text-align: left;\n",
       "    }\n",
       "\n",
       "    .dataframe tbody tr th {\n",
       "        vertical-align: top;\n",
       "    }\n",
       "</style>\n",
       "<table border=\"1\" class=\"dataframe\">\n",
       "  <thead>\n",
       "    <tr style=\"text-align: right;\">\n",
       "      <th>movie_id</th>\n",
       "      <th>1</th>\n",
       "      <th>2</th>\n",
       "      <th>3</th>\n",
       "      <th>4</th>\n",
       "      <th>5</th>\n",
       "      <th>6</th>\n",
       "      <th>7</th>\n",
       "      <th>8</th>\n",
       "      <th>9</th>\n",
       "      <th>10</th>\n",
       "      <th>...</th>\n",
       "      <th>1673</th>\n",
       "      <th>1674</th>\n",
       "      <th>1675</th>\n",
       "      <th>1676</th>\n",
       "      <th>1677</th>\n",
       "      <th>1678</th>\n",
       "      <th>1679</th>\n",
       "      <th>1680</th>\n",
       "      <th>1681</th>\n",
       "      <th>1682</th>\n",
       "    </tr>\n",
       "  </thead>\n",
       "  <tbody>\n",
       "    <tr>\n",
       "      <th>0</th>\n",
       "      <td>0.000000</td>\n",
       "      <td>0.000000</td>\n",
       "      <td>0.000000</td>\n",
       "      <td>0.000000</td>\n",
       "      <td>0.0</td>\n",
       "      <td>0.0</td>\n",
       "      <td>0.000000</td>\n",
       "      <td>0.000000</td>\n",
       "      <td>0.000000</td>\n",
       "      <td>0.0</td>\n",
       "      <td>...</td>\n",
       "      <td>0.0</td>\n",
       "      <td>0.0</td>\n",
       "      <td>0.0</td>\n",
       "      <td>0.0</td>\n",
       "      <td>0.0</td>\n",
       "      <td>0.0</td>\n",
       "      <td>0.0</td>\n",
       "      <td>0.0</td>\n",
       "      <td>0.0</td>\n",
       "      <td>0.0</td>\n",
       "    </tr>\n",
       "    <tr>\n",
       "      <th>1</th>\n",
       "      <td>0.000000</td>\n",
       "      <td>0.000000</td>\n",
       "      <td>0.000000</td>\n",
       "      <td>0.000000</td>\n",
       "      <td>0.0</td>\n",
       "      <td>0.0</td>\n",
       "      <td>0.000000</td>\n",
       "      <td>0.000000</td>\n",
       "      <td>0.000000</td>\n",
       "      <td>0.0</td>\n",
       "      <td>...</td>\n",
       "      <td>0.0</td>\n",
       "      <td>0.0</td>\n",
       "      <td>0.0</td>\n",
       "      <td>0.0</td>\n",
       "      <td>0.0</td>\n",
       "      <td>0.0</td>\n",
       "      <td>0.0</td>\n",
       "      <td>0.0</td>\n",
       "      <td>0.0</td>\n",
       "      <td>0.0</td>\n",
       "    </tr>\n",
       "    <tr>\n",
       "      <th>2</th>\n",
       "      <td>0.000000</td>\n",
       "      <td>0.000000</td>\n",
       "      <td>0.000000</td>\n",
       "      <td>0.000000</td>\n",
       "      <td>0.0</td>\n",
       "      <td>0.0</td>\n",
       "      <td>0.000000</td>\n",
       "      <td>0.000000</td>\n",
       "      <td>0.000000</td>\n",
       "      <td>0.0</td>\n",
       "      <td>...</td>\n",
       "      <td>0.0</td>\n",
       "      <td>0.0</td>\n",
       "      <td>0.0</td>\n",
       "      <td>0.0</td>\n",
       "      <td>0.0</td>\n",
       "      <td>0.0</td>\n",
       "      <td>0.0</td>\n",
       "      <td>0.0</td>\n",
       "      <td>0.0</td>\n",
       "      <td>0.0</td>\n",
       "    </tr>\n",
       "    <tr>\n",
       "      <th>3</th>\n",
       "      <td>0.000000</td>\n",
       "      <td>0.000000</td>\n",
       "      <td>0.000000</td>\n",
       "      <td>0.000000</td>\n",
       "      <td>0.0</td>\n",
       "      <td>0.0</td>\n",
       "      <td>0.000000</td>\n",
       "      <td>0.000000</td>\n",
       "      <td>1.230096</td>\n",
       "      <td>0.0</td>\n",
       "      <td>...</td>\n",
       "      <td>0.0</td>\n",
       "      <td>0.0</td>\n",
       "      <td>0.0</td>\n",
       "      <td>0.0</td>\n",
       "      <td>0.0</td>\n",
       "      <td>0.0</td>\n",
       "      <td>0.0</td>\n",
       "      <td>0.0</td>\n",
       "      <td>0.0</td>\n",
       "      <td>0.0</td>\n",
       "    </tr>\n",
       "    <tr>\n",
       "      <th>4</th>\n",
       "      <td>2.753043</td>\n",
       "      <td>0.499327</td>\n",
       "      <td>0.249663</td>\n",
       "      <td>1.500827</td>\n",
       "      <td>0.0</td>\n",
       "      <td>0.0</td>\n",
       "      <td>1.753989</td>\n",
       "      <td>0.499327</td>\n",
       "      <td>0.753749</td>\n",
       "      <td>0.0</td>\n",
       "      <td>...</td>\n",
       "      <td>0.0</td>\n",
       "      <td>0.0</td>\n",
       "      <td>0.0</td>\n",
       "      <td>0.0</td>\n",
       "      <td>0.0</td>\n",
       "      <td>0.0</td>\n",
       "      <td>0.0</td>\n",
       "      <td>0.0</td>\n",
       "      <td>0.0</td>\n",
       "      <td>0.0</td>\n",
       "    </tr>\n",
       "    <tr>\n",
       "      <th>5</th>\n",
       "      <td>0.000000</td>\n",
       "      <td>0.000000</td>\n",
       "      <td>0.000000</td>\n",
       "      <td>0.000000</td>\n",
       "      <td>0.0</td>\n",
       "      <td>0.0</td>\n",
       "      <td>0.000000</td>\n",
       "      <td>0.000000</td>\n",
       "      <td>0.000000</td>\n",
       "      <td>0.0</td>\n",
       "      <td>...</td>\n",
       "      <td>0.0</td>\n",
       "      <td>0.0</td>\n",
       "      <td>0.0</td>\n",
       "      <td>0.0</td>\n",
       "      <td>0.0</td>\n",
       "      <td>0.0</td>\n",
       "      <td>0.0</td>\n",
       "      <td>0.0</td>\n",
       "      <td>0.0</td>\n",
       "      <td>0.0</td>\n",
       "    </tr>\n",
       "    <tr>\n",
       "      <th>6</th>\n",
       "      <td>4.000000</td>\n",
       "      <td>0.000000</td>\n",
       "      <td>0.000000</td>\n",
       "      <td>0.000000</td>\n",
       "      <td>0.0</td>\n",
       "      <td>0.0</td>\n",
       "      <td>2.733508</td>\n",
       "      <td>0.000000</td>\n",
       "      <td>0.767198</td>\n",
       "      <td>0.0</td>\n",
       "      <td>...</td>\n",
       "      <td>0.0</td>\n",
       "      <td>0.0</td>\n",
       "      <td>0.0</td>\n",
       "      <td>0.0</td>\n",
       "      <td>0.0</td>\n",
       "      <td>0.0</td>\n",
       "      <td>0.0</td>\n",
       "      <td>0.0</td>\n",
       "      <td>0.0</td>\n",
       "      <td>0.0</td>\n",
       "    </tr>\n",
       "    <tr>\n",
       "      <th>7</th>\n",
       "      <td>0.000000</td>\n",
       "      <td>0.000000</td>\n",
       "      <td>0.000000</td>\n",
       "      <td>0.000000</td>\n",
       "      <td>0.0</td>\n",
       "      <td>0.0</td>\n",
       "      <td>0.000000</td>\n",
       "      <td>0.000000</td>\n",
       "      <td>0.000000</td>\n",
       "      <td>0.0</td>\n",
       "      <td>...</td>\n",
       "      <td>0.0</td>\n",
       "      <td>0.0</td>\n",
       "      <td>0.0</td>\n",
       "      <td>0.0</td>\n",
       "      <td>0.0</td>\n",
       "      <td>0.0</td>\n",
       "      <td>0.0</td>\n",
       "      <td>0.0</td>\n",
       "      <td>0.0</td>\n",
       "      <td>0.0</td>\n",
       "    </tr>\n",
       "    <tr>\n",
       "      <th>8</th>\n",
       "      <td>0.000000</td>\n",
       "      <td>0.000000</td>\n",
       "      <td>0.000000</td>\n",
       "      <td>0.000000</td>\n",
       "      <td>0.0</td>\n",
       "      <td>0.0</td>\n",
       "      <td>0.000000</td>\n",
       "      <td>0.000000</td>\n",
       "      <td>0.000000</td>\n",
       "      <td>0.0</td>\n",
       "      <td>...</td>\n",
       "      <td>0.0</td>\n",
       "      <td>0.0</td>\n",
       "      <td>0.0</td>\n",
       "      <td>0.0</td>\n",
       "      <td>0.0</td>\n",
       "      <td>0.0</td>\n",
       "      <td>0.0</td>\n",
       "      <td>0.0</td>\n",
       "      <td>0.0</td>\n",
       "      <td>0.0</td>\n",
       "    </tr>\n",
       "    <tr>\n",
       "      <th>9</th>\n",
       "      <td>3.758043</td>\n",
       "      <td>2.251767</td>\n",
       "      <td>0.000000</td>\n",
       "      <td>2.759742</td>\n",
       "      <td>0.0</td>\n",
       "      <td>0.0</td>\n",
       "      <td>3.496350</td>\n",
       "      <td>0.743135</td>\n",
       "      <td>0.748233</td>\n",
       "      <td>0.0</td>\n",
       "      <td>...</td>\n",
       "      <td>0.0</td>\n",
       "      <td>0.0</td>\n",
       "      <td>0.0</td>\n",
       "      <td>0.0</td>\n",
       "      <td>0.0</td>\n",
       "      <td>0.0</td>\n",
       "      <td>0.0</td>\n",
       "      <td>0.0</td>\n",
       "      <td>0.0</td>\n",
       "      <td>0.0</td>\n",
       "    </tr>\n",
       "  </tbody>\n",
       "</table>\n",
       "<p>10 rows × 1682 columns</p>\n",
       "</div>"
      ],
      "text/plain": [
       "movie_id      1         2         3         4     5     6         7     \\\n",
       "0         0.000000  0.000000  0.000000  0.000000   0.0   0.0  0.000000   \n",
       "1         0.000000  0.000000  0.000000  0.000000   0.0   0.0  0.000000   \n",
       "2         0.000000  0.000000  0.000000  0.000000   0.0   0.0  0.000000   \n",
       "3         0.000000  0.000000  0.000000  0.000000   0.0   0.0  0.000000   \n",
       "4         2.753043  0.499327  0.249663  1.500827   0.0   0.0  1.753989   \n",
       "5         0.000000  0.000000  0.000000  0.000000   0.0   0.0  0.000000   \n",
       "6         4.000000  0.000000  0.000000  0.000000   0.0   0.0  2.733508   \n",
       "7         0.000000  0.000000  0.000000  0.000000   0.0   0.0  0.000000   \n",
       "8         0.000000  0.000000  0.000000  0.000000   0.0   0.0  0.000000   \n",
       "9         3.758043  2.251767  0.000000  2.759742   0.0   0.0  3.496350   \n",
       "\n",
       "movie_id      8         9     10    ...   1673  1674  1675  1676  1677  1678  \\\n",
       "0         0.000000  0.000000   0.0  ...    0.0   0.0   0.0   0.0   0.0   0.0   \n",
       "1         0.000000  0.000000   0.0  ...    0.0   0.0   0.0   0.0   0.0   0.0   \n",
       "2         0.000000  0.000000   0.0  ...    0.0   0.0   0.0   0.0   0.0   0.0   \n",
       "3         0.000000  1.230096   0.0  ...    0.0   0.0   0.0   0.0   0.0   0.0   \n",
       "4         0.499327  0.753749   0.0  ...    0.0   0.0   0.0   0.0   0.0   0.0   \n",
       "5         0.000000  0.000000   0.0  ...    0.0   0.0   0.0   0.0   0.0   0.0   \n",
       "6         0.000000  0.767198   0.0  ...    0.0   0.0   0.0   0.0   0.0   0.0   \n",
       "7         0.000000  0.000000   0.0  ...    0.0   0.0   0.0   0.0   0.0   0.0   \n",
       "8         0.000000  0.000000   0.0  ...    0.0   0.0   0.0   0.0   0.0   0.0   \n",
       "9         0.743135  0.748233   0.0  ...    0.0   0.0   0.0   0.0   0.0   0.0   \n",
       "\n",
       "movie_id  1679  1680  1681  1682  \n",
       "0          0.0   0.0   0.0   0.0  \n",
       "1          0.0   0.0   0.0   0.0  \n",
       "2          0.0   0.0   0.0   0.0  \n",
       "3          0.0   0.0   0.0   0.0  \n",
       "4          0.0   0.0   0.0   0.0  \n",
       "5          0.0   0.0   0.0   0.0  \n",
       "6          0.0   0.0   0.0   0.0  \n",
       "7          0.0   0.0   0.0   0.0  \n",
       "8          0.0   0.0   0.0   0.0  \n",
       "9          0.0   0.0   0.0   0.0  \n",
       "\n",
       "[10 rows x 1682 columns]"
      ]
     },
     "execution_count": 34,
     "metadata": {},
     "output_type": "execute_result"
    }
   ],
   "source": [
    "df = pd.DataFrame(user_pred, columns=ratings_.columns)\n",
    "df.head(10)"
   ]
  },
  {
   "cell_type": "markdown",
   "metadata": {},
   "source": [
    "## Evaluating the model:"
   ]
  },
  {
   "cell_type": "code",
   "execution_count": 30,
   "metadata": {
    "collapsed": true
   },
   "outputs": [],
   "source": [
    "from sklearn.metrics import mean_squared_error\n",
    "from math import sqrt"
   ]
  },
  {
   "cell_type": "code",
   "execution_count": 31,
   "metadata": {
    "collapsed": true
   },
   "outputs": [],
   "source": [
    "def rmse(pred,actual):\n",
    "    prediction = pred[actual.nonzero()].flatten()\n",
    "    actual = actual[actual.nonzero()].flatten()\n",
    "    return sqrt(mean_squared_error(prediction, actual))"
   ]
  },
  {
   "cell_type": "code",
   "execution_count": 32,
   "metadata": {},
   "outputs": [
    {
     "data": {
      "text/plain": [
       "2.860210336806541"
      ]
     },
     "execution_count": 32,
     "metadata": {},
     "output_type": "execute_result"
    }
   ],
   "source": [
    "rmse(user_pred, ratings_train)"
   ]
  },
  {
   "cell_type": "code",
   "execution_count": 33,
   "metadata": {},
   "outputs": [
    {
     "data": {
      "text/plain": [
       "3.367330398504572"
      ]
     },
     "execution_count": 33,
     "metadata": {},
     "output_type": "execute_result"
    }
   ],
   "source": [
    "rmse(user_pred, ratings_test)"
   ]
  },
  {
   "cell_type": "markdown",
   "metadata": {},
   "source": [
    "## Item-based recommendations"
   ]
  },
  {
   "cell_type": "code",
   "execution_count": 36,
   "metadata": {},
   "outputs": [
    {
     "data": {
      "text/plain": [
       "1682"
      ]
     },
     "execution_count": 36,
     "metadata": {},
     "output_type": "execute_result"
    }
   ],
   "source": [
    "# defining k as the number of movies\n",
    "k_ = ratings_train.shape[1]\n",
    "k_"
   ]
  },
  {
   "cell_type": "code",
   "execution_count": 37,
   "metadata": {
    "collapsed": true
   },
   "outputs": [],
   "source": [
    "neigh_ = NearestNeighbors(k_, 'cosine')"
   ]
  },
  {
   "cell_type": "code",
   "execution_count": 38,
   "metadata": {},
   "outputs": [
    {
     "data": {
      "text/plain": [
       "NearestNeighbors(algorithm='auto', leaf_size=30, metric='minkowski',\n",
       "         metric_params=None, n_jobs=1, n_neighbors=1682, p=2,\n",
       "         radius='cosine')"
      ]
     },
     "execution_count": 38,
     "metadata": {},
     "output_type": "execute_result"
    }
   ],
   "source": [
    "neigh_.fit(ratings_train.T)"
   ]
  },
  {
   "cell_type": "code",
   "execution_count": 39,
   "metadata": {
    "collapsed": true
   },
   "outputs": [],
   "source": [
    "top_k_dist_, top_k_movies_ = neigh_.kneighbors(ratings_train.T, return_distance=True)"
   ]
  },
  {
   "cell_type": "markdown",
   "metadata": {},
   "source": [
    "## Similar movies to movie 1:"
   ]
  },
  {
   "cell_type": "code",
   "execution_count": 40,
   "metadata": {},
   "outputs": [
    {
     "data": {
      "text/plain": [
       "array([  0, 120, 404, ..., 285, 312, 301])"
      ]
     },
     "execution_count": 40,
     "metadata": {},
     "output_type": "execute_result"
    }
   ],
   "source": [
    "top_k_movies_[0] #選第0個電影，有可能相近的電影有誰"
   ]
  },
  {
   "cell_type": "code",
   "execution_count": 41,
   "metadata": {},
   "outputs": [
    {
     "data": {
      "text/plain": [
       "array([  0.        ,  53.12249994,  54.38749856, ...,  77.08436936,\n",
       "        77.39509028,  79.3473377 ])"
      ]
     },
     "execution_count": 41,
     "metadata": {},
     "output_type": "execute_result"
    }
   ],
   "source": [
    "top_k_dist_[0] #距離"
   ]
  },
  {
   "cell_type": "markdown",
   "metadata": {},
   "source": [
    "## Predicting the movie ratings"
   ]
  },
  {
   "cell_type": "code",
   "execution_count": 42,
   "metadata": {
    "collapsed": true
   },
   "outputs": [],
   "source": [
    "item_predictions = ratings_train.dot(top_k_dist_) / np.array([np.abs(top_k_dist_).sum(axis=1)])"
   ]
  },
  {
   "cell_type": "code",
   "execution_count": 44,
   "metadata": {},
   "outputs": [
    {
     "data": {
      "text/html": [
       "<div>\n",
       "<style>\n",
       "    .dataframe thead tr:only-child th {\n",
       "        text-align: right;\n",
       "    }\n",
       "\n",
       "    .dataframe thead th {\n",
       "        text-align: left;\n",
       "    }\n",
       "\n",
       "    .dataframe tbody tr th {\n",
       "        vertical-align: top;\n",
       "    }\n",
       "</style>\n",
       "<table border=\"1\" class=\"dataframe\">\n",
       "  <thead>\n",
       "    <tr style=\"text-align: right;\">\n",
       "      <th>movie_id</th>\n",
       "      <th>1</th>\n",
       "      <th>2</th>\n",
       "      <th>3</th>\n",
       "      <th>4</th>\n",
       "      <th>5</th>\n",
       "      <th>6</th>\n",
       "      <th>7</th>\n",
       "      <th>8</th>\n",
       "      <th>9</th>\n",
       "      <th>10</th>\n",
       "      <th>...</th>\n",
       "      <th>1673</th>\n",
       "      <th>1674</th>\n",
       "      <th>1675</th>\n",
       "      <th>1676</th>\n",
       "      <th>1677</th>\n",
       "      <th>1678</th>\n",
       "      <th>1679</th>\n",
       "      <th>1680</th>\n",
       "      <th>1681</th>\n",
       "      <th>1682</th>\n",
       "    </tr>\n",
       "  </thead>\n",
       "  <tbody>\n",
       "    <tr>\n",
       "      <th>0</th>\n",
       "      <td>0.0</td>\n",
       "      <td>0.318426</td>\n",
       "      <td>0.370093</td>\n",
       "      <td>0.262237</td>\n",
       "      <td>0.369791</td>\n",
       "      <td>0.462891</td>\n",
       "      <td>0.188307</td>\n",
       "      <td>0.240255</td>\n",
       "      <td>0.208729</td>\n",
       "      <td>0.352278</td>\n",
       "      <td>...</td>\n",
       "      <td>1.298808</td>\n",
       "      <td>1.292362</td>\n",
       "      <td>1.365190</td>\n",
       "      <td>1.380232</td>\n",
       "      <td>1.393514</td>\n",
       "      <td>1.408556</td>\n",
       "      <td>1.426800</td>\n",
       "      <td>1.448504</td>\n",
       "      <td>1.456640</td>\n",
       "      <td>1.545308</td>\n",
       "    </tr>\n",
       "    <tr>\n",
       "      <th>1</th>\n",
       "      <td>0.0</td>\n",
       "      <td>0.054538</td>\n",
       "      <td>0.062280</td>\n",
       "      <td>0.044045</td>\n",
       "      <td>0.061896</td>\n",
       "      <td>0.077263</td>\n",
       "      <td>0.031369</td>\n",
       "      <td>0.039994</td>\n",
       "      <td>0.034737</td>\n",
       "      <td>0.058565</td>\n",
       "      <td>...</td>\n",
       "      <td>0.182118</td>\n",
       "      <td>0.180352</td>\n",
       "      <td>0.189936</td>\n",
       "      <td>0.191750</td>\n",
       "      <td>0.193745</td>\n",
       "      <td>0.195906</td>\n",
       "      <td>0.197830</td>\n",
       "      <td>0.200787</td>\n",
       "      <td>0.201121</td>\n",
       "      <td>0.213325</td>\n",
       "    </tr>\n",
       "    <tr>\n",
       "      <th>2</th>\n",
       "      <td>0.0</td>\n",
       "      <td>0.035225</td>\n",
       "      <td>0.040731</td>\n",
       "      <td>0.028824</td>\n",
       "      <td>0.040595</td>\n",
       "      <td>0.050637</td>\n",
       "      <td>0.020564</td>\n",
       "      <td>0.026209</td>\n",
       "      <td>0.022772</td>\n",
       "      <td>0.038423</td>\n",
       "      <td>...</td>\n",
       "      <td>0.166232</td>\n",
       "      <td>0.165331</td>\n",
       "      <td>0.174985</td>\n",
       "      <td>0.177631</td>\n",
       "      <td>0.179116</td>\n",
       "      <td>0.180139</td>\n",
       "      <td>0.181806</td>\n",
       "      <td>0.184569</td>\n",
       "      <td>0.186547</td>\n",
       "      <td>0.200763</td>\n",
       "    </tr>\n",
       "    <tr>\n",
       "      <th>3</th>\n",
       "      <td>0.0</td>\n",
       "      <td>0.087291</td>\n",
       "      <td>0.101434</td>\n",
       "      <td>0.071960</td>\n",
       "      <td>0.101578</td>\n",
       "      <td>0.126977</td>\n",
       "      <td>0.051637</td>\n",
       "      <td>0.065800</td>\n",
       "      <td>0.057136</td>\n",
       "      <td>0.096375</td>\n",
       "      <td>...</td>\n",
       "      <td>0.331993</td>\n",
       "      <td>0.330009</td>\n",
       "      <td>0.347356</td>\n",
       "      <td>0.351866</td>\n",
       "      <td>0.354874</td>\n",
       "      <td>0.358003</td>\n",
       "      <td>0.360961</td>\n",
       "      <td>0.365639</td>\n",
       "      <td>0.367251</td>\n",
       "      <td>0.390919</td>\n",
       "    </tr>\n",
       "    <tr>\n",
       "      <th>4</th>\n",
       "      <td>0.0</td>\n",
       "      <td>0.421538</td>\n",
       "      <td>0.488463</td>\n",
       "      <td>0.347368</td>\n",
       "      <td>0.490747</td>\n",
       "      <td>0.614978</td>\n",
       "      <td>0.250371</td>\n",
       "      <td>0.319556</td>\n",
       "      <td>0.277829</td>\n",
       "      <td>0.469281</td>\n",
       "      <td>...</td>\n",
       "      <td>1.790325</td>\n",
       "      <td>1.779009</td>\n",
       "      <td>1.881473</td>\n",
       "      <td>1.902814</td>\n",
       "      <td>1.922278</td>\n",
       "      <td>1.941175</td>\n",
       "      <td>1.968537</td>\n",
       "      <td>1.997288</td>\n",
       "      <td>2.013134</td>\n",
       "      <td>2.126436</td>\n",
       "    </tr>\n",
       "    <tr>\n",
       "      <th>5</th>\n",
       "      <td>0.0</td>\n",
       "      <td>0.062268</td>\n",
       "      <td>0.071446</td>\n",
       "      <td>0.050520</td>\n",
       "      <td>0.071088</td>\n",
       "      <td>0.088917</td>\n",
       "      <td>0.036149</td>\n",
       "      <td>0.046140</td>\n",
       "      <td>0.040088</td>\n",
       "      <td>0.067561</td>\n",
       "      <td>...</td>\n",
       "      <td>0.205173</td>\n",
       "      <td>0.203762</td>\n",
       "      <td>0.214561</td>\n",
       "      <td>0.216829</td>\n",
       "      <td>0.219402</td>\n",
       "      <td>0.221169</td>\n",
       "      <td>0.223249</td>\n",
       "      <td>0.225526</td>\n",
       "      <td>0.226530</td>\n",
       "      <td>0.240815</td>\n",
       "    </tr>\n",
       "    <tr>\n",
       "      <th>6</th>\n",
       "      <td>0.0</td>\n",
       "      <td>0.127591</td>\n",
       "      <td>0.149610</td>\n",
       "      <td>0.105822</td>\n",
       "      <td>0.149263</td>\n",
       "      <td>0.186985</td>\n",
       "      <td>0.076077</td>\n",
       "      <td>0.097033</td>\n",
       "      <td>0.084321</td>\n",
       "      <td>0.142406</td>\n",
       "      <td>...</td>\n",
       "      <td>0.449655</td>\n",
       "      <td>0.446358</td>\n",
       "      <td>0.470311</td>\n",
       "      <td>0.475094</td>\n",
       "      <td>0.478856</td>\n",
       "      <td>0.482460</td>\n",
       "      <td>0.487072</td>\n",
       "      <td>0.491807</td>\n",
       "      <td>0.490226</td>\n",
       "      <td>0.521446</td>\n",
       "    </tr>\n",
       "    <tr>\n",
       "      <th>7</th>\n",
       "      <td>0.0</td>\n",
       "      <td>0.047315</td>\n",
       "      <td>0.054840</td>\n",
       "      <td>0.038746</td>\n",
       "      <td>0.054376</td>\n",
       "      <td>0.067811</td>\n",
       "      <td>0.027574</td>\n",
       "      <td>0.035161</td>\n",
       "      <td>0.030520</td>\n",
       "      <td>0.051402</td>\n",
       "      <td>...</td>\n",
       "      <td>0.156799</td>\n",
       "      <td>0.155842</td>\n",
       "      <td>0.164196</td>\n",
       "      <td>0.165506</td>\n",
       "      <td>0.166585</td>\n",
       "      <td>0.168679</td>\n",
       "      <td>0.170884</td>\n",
       "      <td>0.172929</td>\n",
       "      <td>0.171849</td>\n",
       "      <td>0.185213</td>\n",
       "    </tr>\n",
       "    <tr>\n",
       "      <th>8</th>\n",
       "      <td>0.0</td>\n",
       "      <td>0.038242</td>\n",
       "      <td>0.044113</td>\n",
       "      <td>0.031148</td>\n",
       "      <td>0.043863</td>\n",
       "      <td>0.054703</td>\n",
       "      <td>0.022212</td>\n",
       "      <td>0.028351</td>\n",
       "      <td>0.024608</td>\n",
       "      <td>0.041484</td>\n",
       "      <td>...</td>\n",
       "      <td>0.132831</td>\n",
       "      <td>0.131897</td>\n",
       "      <td>0.138646</td>\n",
       "      <td>0.140299</td>\n",
       "      <td>0.141655</td>\n",
       "      <td>0.142829</td>\n",
       "      <td>0.144261</td>\n",
       "      <td>0.146185</td>\n",
       "      <td>0.145816</td>\n",
       "      <td>0.156544</td>\n",
       "    </tr>\n",
       "    <tr>\n",
       "      <th>9</th>\n",
       "      <td>0.0</td>\n",
       "      <td>0.521024</td>\n",
       "      <td>0.606827</td>\n",
       "      <td>0.431687</td>\n",
       "      <td>0.609992</td>\n",
       "      <td>0.763399</td>\n",
       "      <td>0.310718</td>\n",
       "      <td>0.396555</td>\n",
       "      <td>0.344655</td>\n",
       "      <td>0.581956</td>\n",
       "      <td>...</td>\n",
       "      <td>2.121418</td>\n",
       "      <td>2.108141</td>\n",
       "      <td>2.229936</td>\n",
       "      <td>2.254356</td>\n",
       "      <td>2.276204</td>\n",
       "      <td>2.297575</td>\n",
       "      <td>2.326097</td>\n",
       "      <td>2.360383</td>\n",
       "      <td>2.365945</td>\n",
       "      <td>2.521556</td>\n",
       "    </tr>\n",
       "  </tbody>\n",
       "</table>\n",
       "<p>10 rows × 1682 columns</p>\n",
       "</div>"
      ],
      "text/plain": [
       "movie_id  1         2         3         4         5         6         7     \\\n",
       "0          0.0  0.318426  0.370093  0.262237  0.369791  0.462891  0.188307   \n",
       "1          0.0  0.054538  0.062280  0.044045  0.061896  0.077263  0.031369   \n",
       "2          0.0  0.035225  0.040731  0.028824  0.040595  0.050637  0.020564   \n",
       "3          0.0  0.087291  0.101434  0.071960  0.101578  0.126977  0.051637   \n",
       "4          0.0  0.421538  0.488463  0.347368  0.490747  0.614978  0.250371   \n",
       "5          0.0  0.062268  0.071446  0.050520  0.071088  0.088917  0.036149   \n",
       "6          0.0  0.127591  0.149610  0.105822  0.149263  0.186985  0.076077   \n",
       "7          0.0  0.047315  0.054840  0.038746  0.054376  0.067811  0.027574   \n",
       "8          0.0  0.038242  0.044113  0.031148  0.043863  0.054703  0.022212   \n",
       "9          0.0  0.521024  0.606827  0.431687  0.609992  0.763399  0.310718   \n",
       "\n",
       "movie_id      8         9         10      ...         1673      1674  \\\n",
       "0         0.240255  0.208729  0.352278    ...     1.298808  1.292362   \n",
       "1         0.039994  0.034737  0.058565    ...     0.182118  0.180352   \n",
       "2         0.026209  0.022772  0.038423    ...     0.166232  0.165331   \n",
       "3         0.065800  0.057136  0.096375    ...     0.331993  0.330009   \n",
       "4         0.319556  0.277829  0.469281    ...     1.790325  1.779009   \n",
       "5         0.046140  0.040088  0.067561    ...     0.205173  0.203762   \n",
       "6         0.097033  0.084321  0.142406    ...     0.449655  0.446358   \n",
       "7         0.035161  0.030520  0.051402    ...     0.156799  0.155842   \n",
       "8         0.028351  0.024608  0.041484    ...     0.132831  0.131897   \n",
       "9         0.396555  0.344655  0.581956    ...     2.121418  2.108141   \n",
       "\n",
       "movie_id      1675      1676      1677      1678      1679      1680  \\\n",
       "0         1.365190  1.380232  1.393514  1.408556  1.426800  1.448504   \n",
       "1         0.189936  0.191750  0.193745  0.195906  0.197830  0.200787   \n",
       "2         0.174985  0.177631  0.179116  0.180139  0.181806  0.184569   \n",
       "3         0.347356  0.351866  0.354874  0.358003  0.360961  0.365639   \n",
       "4         1.881473  1.902814  1.922278  1.941175  1.968537  1.997288   \n",
       "5         0.214561  0.216829  0.219402  0.221169  0.223249  0.225526   \n",
       "6         0.470311  0.475094  0.478856  0.482460  0.487072  0.491807   \n",
       "7         0.164196  0.165506  0.166585  0.168679  0.170884  0.172929   \n",
       "8         0.138646  0.140299  0.141655  0.142829  0.144261  0.146185   \n",
       "9         2.229936  2.254356  2.276204  2.297575  2.326097  2.360383   \n",
       "\n",
       "movie_id      1681      1682  \n",
       "0         1.456640  1.545308  \n",
       "1         0.201121  0.213325  \n",
       "2         0.186547  0.200763  \n",
       "3         0.367251  0.390919  \n",
       "4         2.013134  2.126436  \n",
       "5         0.226530  0.240815  \n",
       "6         0.490226  0.521446  \n",
       "7         0.171849  0.185213  \n",
       "8         0.145816  0.156544  \n",
       "9         2.365945  2.521556  \n",
       "\n",
       "[10 rows x 1682 columns]"
      ]
     },
     "execution_count": 44,
     "metadata": {},
     "output_type": "execute_result"
    }
   ],
   "source": [
    "df_predictions = pd.DataFrame(item_predictions, columns=ratings_.columns)\n",
    "df_predictions.head(10)\n",
    "#Because the query set matches the training set, the nearest neighbor of each point is the point itself, at a distance of zero."
   ]
  },
  {
   "cell_type": "code",
   "execution_count": 42,
   "metadata": {},
   "outputs": [
    {
     "data": {
      "text/plain": [
       "(660, 1682)"
      ]
     },
     "execution_count": 42,
     "metadata": {},
     "output_type": "execute_result"
    }
   ],
   "source": [
    "df_predictions.shape"
   ]
  },
  {
   "cell_type": "markdown",
   "metadata": {},
   "source": [
    "## Evaluating the model:"
   ]
  },
  {
   "cell_type": "code",
   "execution_count": 43,
   "metadata": {},
   "outputs": [
    {
     "data": {
      "text/plain": [
       "3.342538761948114"
      ]
     },
     "execution_count": 43,
     "metadata": {},
     "output_type": "execute_result"
    }
   ],
   "source": [
    "rmse(item_predictions, ratings_train)"
   ]
  },
  {
   "cell_type": "code",
   "execution_count": 44,
   "metadata": {},
   "outputs": [
    {
     "data": {
      "text/plain": [
       "3.44626980973761"
      ]
     },
     "execution_count": 44,
     "metadata": {},
     "output_type": "execute_result"
    }
   ],
   "source": [
    "rmse(item_predictions, ratings_test)"
   ]
  },
  {
   "cell_type": "code",
   "execution_count": null,
   "metadata": {
    "collapsed": true
   },
   "outputs": [],
   "source": []
  }
 ],
 "metadata": {
  "kernelspec": {
   "display_name": "Python 3",
   "language": "python",
   "name": "python3"
  },
  "language_info": {
   "codemirror_mode": {
    "name": "ipython",
    "version": 3
   },
   "file_extension": ".py",
   "mimetype": "text/x-python",
   "name": "python",
   "nbconvert_exporter": "python",
   "pygments_lexer": "ipython3",
   "version": "3.7.3"
  }
 },
 "nbformat": 4,
 "nbformat_minor": 2
}
