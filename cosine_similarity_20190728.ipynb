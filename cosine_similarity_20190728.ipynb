{
 "cells": [
  {
   "cell_type": "markdown",
   "metadata": {},
   "source": [
    "# <font color = red> Cosine Similarity </font>"
   ]
  },
  {
   "cell_type": "code",
   "execution_count": 171,
   "metadata": {},
   "outputs": [],
   "source": [
    "#https://www.brilliantcode.net/1062/numpy-tutorial-basic-operations/"
   ]
  },
  {
   "cell_type": "markdown",
   "metadata": {},
   "source": [
    "## <mark style=background-color:yellow>1. import 所需套件 </mark> "
   ]
  },
  {
   "cell_type": "code",
   "execution_count": 172,
   "metadata": {},
   "outputs": [],
   "source": [
    "import pandas as pd\n",
    "import numpy as np"
   ]
  },
  {
   "cell_type": "code",
   "execution_count": 173,
   "metadata": {},
   "outputs": [],
   "source": [
    "from sklearn.metrics.pairwise import cosine_similarity\n",
    "from sklearn.metrics.pairwise import pairwise_distances"
   ]
  },
  {
   "cell_type": "code",
   "execution_count": 174,
   "metadata": {},
   "outputs": [],
   "source": [
    "from scipy.spatial.distance import pdist"
   ]
  },
  {
   "cell_type": "markdown",
   "metadata": {},
   "source": [
    "## <mark style=background-color:grey>視覺化 所需套件 </mark> "
   ]
  },
  {
   "cell_type": "code",
   "execution_count": 175,
   "metadata": {},
   "outputs": [],
   "source": [
    "import matplotlib.pyplot as plt"
   ]
  },
  {
   "cell_type": "markdown",
   "metadata": {},
   "source": [
    "## <mark style=background-color:grey>formatting 所需套件 </mark> "
   ]
  },
  {
   "cell_type": "code",
   "execution_count": 176,
   "metadata": {},
   "outputs": [
    {
     "data": {
      "text/plain": [
       "'Chinese (Traditional)_Taiwan.950'"
      ]
     },
     "execution_count": 176,
     "metadata": {},
     "output_type": "execute_result"
    }
   ],
   "source": [
    "import locale\n",
    "locale.setlocale(locale.LC_ALL, '') "
   ]
  },
  {
   "cell_type": "markdown",
   "metadata": {},
   "source": [
    "## <mark style=background-color:yellow> function </mark> "
   ]
  },
  {
   "cell_type": "markdown",
   "metadata": {},
   "source": [
    "## <mark style=background-color:grey>  歐式距離euclidean distance </mark> "
   ]
  },
  {
   "cell_type": "code",
   "execution_count": 178,
   "metadata": {},
   "outputs": [],
   "source": [
    "def func_euclidean_distance(data1, data2):\n",
    "    points = zip(data1, data2)\n",
    "    print(type(points), points)\n",
    "    diffs_squared_distance = [pow(a - b, 2) for (a, b) in points]\n",
    "    return math.sqrt(sum(diffs_squared_distance))"
   ]
  },
  {
   "cell_type": "markdown",
   "metadata": {},
   "source": [
    "# <mark style=background-color:yellow>  cosine similarity </mark> "
   ]
  },
  {
   "cell_type": "code",
   "execution_count": 179,
   "metadata": {},
   "outputs": [],
   "source": [
    "#$$P(A \\mid B) = \\frac{ P(B \\mid A) P(A) }{ P(B) }$$\n",
    "#https://www.cnblogs.com/laoduan/p/7641698.html\n",
    "#餘弦 -1 ~ 1越相似"
   ]
  },
  {
   "cell_type": "markdown",
   "metadata": {},
   "source": [
    "$$ Cosine  Similarity餘弦相似度 =  \\frac{ A矩陣    X    B矩陣  }{ |A| |B| } $$"
   ]
  },
  {
   "cell_type": "code",
   "execution_count": 180,
   "metadata": {},
   "outputs": [],
   "source": [
    "\n",
    "#方法1: 使用 loop 慢慢累積兩個矩陣的乘積 \n",
    "def func_cosine_similarity(vector1, vector2):\n",
    "    dot_product = 0.0\n",
    "    normA = 0.0\n",
    "    normB = 0.0\n",
    "    for a, b in zip(vector1, vector2):\n",
    "        print('a=',a , end=' ; ')\n",
    "        print('b=',b, end=' ; ')\n",
    "        dot_product += a * b\n",
    "        print('accumulated dot_product=', dot_product)\n",
    "        \n",
    "        normA += a ** 2\n",
    "        print('+', a ** 2,' ; ', 'accumulated normA=',  normA)\n",
    "        normB += b ** 2\n",
    "        print('+', b ** 2,' ; ', 'accumulated normB=',   normB, '\\n')\n",
    "        \n",
    "    if normA == 0.0 or normB == 0.0:\n",
    "        return None\n",
    "    else:\n",
    "        print('accumulated dot_product 分子=', dot_product )\n",
    "        print('accumulated normA 分母1=',(normA ), end=' ; ' )\n",
    "        print('accumulated normB 分母2=',(normB ) )\n",
    "        # ** 0.5 就是開根號\n",
    "        print('分母相乘後, 開完根號=', ((normA * normB) ** 0.5))\n",
    "        print('    註: 分母1*分母2=',(normA * normB) )  \n",
    "        print('分子/分母相乘後開完根號=', dot_product / ((normA * normB) ** 0.5))\n",
    "        return dot_product / ((normA * normB) ** 0.5)"
   ]
  },
  {
   "cell_type": "code",
   "execution_count": 181,
   "metadata": {},
   "outputs": [
    {
     "name": "stdout",
     "output_type": "stream",
     "text": [
      "a= 1 ; b= 2 ; accumulated dot_product= 2.0\n",
      "+ 1  ;  accumulated normA= 1.0\n",
      "+ 4  ;  accumulated normB= 4.0 \n",
      "\n",
      "a= 3 ; b= 2 ; accumulated dot_product= 8.0\n",
      "+ 9  ;  accumulated normA= 10.0\n",
      "+ 4  ;  accumulated normB= 8.0 \n",
      "\n",
      "a= 2 ; b= 1 ; accumulated dot_product= 10.0\n",
      "+ 4  ;  accumulated normA= 14.0\n",
      "+ 1  ;  accumulated normB= 9.0 \n",
      "\n",
      "accumulated dot_product 分子= 10.0\n",
      "accumulated normA 分母1= 14.0 ; accumulated normB 分母2= 9.0\n",
      "分母相乘後, 開完根號= 11.224972160321824\n",
      "    註: 分母1*分母2= 126.0\n",
      "分子/分母相乘後開完根號= 0.8908708063747479\n",
      "\n",
      " cosine similarity= 0.89\n"
     ]
    }
   ],
   "source": [
    "# 方法1: call function func_cosine_similarity\n",
    "print('\\n cosine similarity=', f'{ (func_cosine_similarity([1,3,2],[2,2,1])) :.2f}')"
   ]
  },
  {
   "cell_type": "code",
   "execution_count": 182,
   "metadata": {},
   "outputs": [],
   "source": [
    "#方法2: 使用 numpy matrix 計算兩個矩陣的乘積 a* b就好了\n",
    "def func_cos_sim(vector_a, vector_b):\n",
    "    \"\"\"\n",
    "    計算兩個向量之間的餘弦相似度\n",
    "    :param vector_a: 向量 a \n",
    "    :param vector_b: 向量 b \n",
    "    \"\"\"\n",
    "    vector_a = np.mat(vector_a) #2D matrix\n",
    "    print('vector_a=', vector_a, 'type=', type(vector_a) )\n",
    "    vector_b = np.mat(vector_b) #2D matrix\n",
    "    print('vector_b=', vector_b, 'type=', type(vector_b) )\n",
    "    \n",
    "    print('vector_b.T=', vector_b.T,'\\n')\n",
    "    num = float(vector_a * vector_b.T) #分子\n",
    "    print('float(vector_a * vector_b.T)=',num)\n",
    "    \n",
    "    print('np.linalg.norm(vector_a) 分母1開完根號後=', np.linalg.norm(vector_a)) \n",
    "    print('np.linalg.norm(vector_b) 分母2開完根號後=', np.linalg.norm(vector_b))    \n",
    "    denom = np.linalg.norm(vector_a) * np.linalg.norm(vector_b)  #分母\n",
    "    print( '開完根號的分母1 * 開完根號的分母2 =', denom)\n",
    "    sim = num / denom\n",
    "    print('分子/ 分母=', f'{sim:.2f}')\n",
    "     \n",
    "    return sim"
   ]
  },
  {
   "cell_type": "code",
   "execution_count": 183,
   "metadata": {},
   "outputs": [
    {
     "name": "stdout",
     "output_type": "stream",
     "text": [
      "vector_a= [[1 3 2]] type= <class 'numpy.matrix'>\n",
      "vector_b= [[2 2 1]] type= <class 'numpy.matrix'>\n",
      "vector_b.T= [[2]\n",
      " [2]\n",
      " [1]] \n",
      "\n",
      "float(vector_a * vector_b.T)= 10.0\n",
      "np.linalg.norm(vector_a) 分母1開完根號後= 3.7416573867739413\n",
      "np.linalg.norm(vector_b) 分母2開完根號後= 3.0\n",
      "開完根號的分母1 * 開完根號的分母2 = 11.224972160321824\n",
      "分子/ 分母= 0.89\n",
      "\n",
      " cosine similarity= 0.89\n"
     ]
    }
   ],
   "source": [
    "#方法2: call func_cos_sim 使用 numpy matrix 計算兩個矩陣的乘積 a* b就好了\n",
    "A= [1,3,2]\n",
    "B= [2,2,1]\n",
    "print('\\n cosine similarity=', f'{ (func_cos_sim(A,B)) :.2f}')"
   ]
  },
  {
   "cell_type": "code",
   "execution_count": 184,
   "metadata": {},
   "outputs": [
    {
     "name": "stdout",
     "output_type": "stream",
     "text": [
      "分子 AB矩陣乘積= 10 \n",
      "\n",
      "分母A平方累計值&開完根號= 3.7416573867739413\n",
      "分母B平方累計值&開完根號= 3.0\n",
      "分母AB 都開完根號 相乘= 11.224972160321824\n",
      "\n",
      " 分子 / (AB兩個分母都開完根號 相乘)= 0.89\n"
     ]
    }
   ],
   "source": [
    "# 方法3: 直接寫公式\n",
    "A= [1,3,2]\n",
    "B= [2,2,1]\n",
    "print('分子 AB矩陣乘積=',np.dot(A,B), '\\n')\n",
    "print('分母A平方累計值&開完根號=', np.linalg.norm([1,3,2]))\n",
    "print('分母B平方累計值&開完根號=', np.linalg.norm([2,2,1]))\n",
    "\n",
    "d1=np.dot(A,B)/(np.linalg.norm(A)*np.linalg.norm(B))\n",
    "print('分母AB 都開完根號 相乘=', (np.linalg.norm(A)*np.linalg.norm(B)))\n",
    "print('\\n 分子 / (AB兩個分母都開完根號 相乘)=', f'{d1:.2f}')"
   ]
  },
  {
   "cell_type": "code",
   "execution_count": 185,
   "metadata": {},
   "outputs": [],
   "source": [
    "# 方法4:直接寫 one line 公式  \n",
    "# 使用 power, sqrt\n",
    "def func_cos_sim_oneline(v1, v2):\n",
    "    print('分子 AB矩陣乘積=', np.dot(v1, v2))\n",
    "    print('分母A平方累計值&開完根號=', (np.sqrt(np.sum(np.power(v1, 2)))))\n",
    "    print('分母B平方累計值&開完根號=',np.sqrt(np.sum(np.power(v2, 2))))\n",
    "    print('最終分母=',(np.sqrt(np.sum(np.power(v1, 2))) * np.sqrt(np.sum(np.power(v2, 2)))))\n",
    "    return np.dot(v1, v2) / (np.sqrt(np.sum(np.power(v1, 2))) * np.sqrt(np.sum(np.power(v2, 2))))"
   ]
  },
  {
   "cell_type": "code",
   "execution_count": 186,
   "metadata": {},
   "outputs": [
    {
     "name": "stdout",
     "output_type": "stream",
     "text": [
      "分子 AB矩陣乘積= 10\n",
      "分母A平方累計值&開完根號= 3.7416573867739413\n",
      "分母B平方累計值&開完根號= 3.0\n",
      "最終分母= 11.224972160321824\n",
      "\n",
      " cosine similarity= 0.89\n"
     ]
    }
   ],
   "source": [
    "# 方法4: call 直接寫公式 func_cos_sim_oneline\n",
    "A= [1,3,2]\n",
    "B= [2,2,1]\n",
    "print('\\n cosine similarity=', f'{ (func_cos_sim_oneline(A,B)) :.2f}')"
   ]
  },
  {
   "cell_type": "code",
   "execution_count": 187,
   "metadata": {},
   "outputs": [
    {
     "name": "stdout",
     "output_type": "stream",
     "text": [
      "type of np.vstack= <class 'numpy.ndarray'> \n",
      "\n",
      "np.vstack= [[1 3 2]\n",
      " [2 2 1]]\n",
      "pdist(np.vstack,'cosine')= [0.10912919]\n",
      "cosine similarity= 0.89\n"
     ]
    }
   ],
   "source": [
    "# 方法5: 使用scipy 先計算consine 距離 pdist \n",
    "#from scipy.spatial.distance import pdist\n",
    "X=np.vstack([[1,3,2],[2,2,1]])\n",
    "print('type of np.vstack=', type(X),'\\n')\n",
    "print('np.vstack=',X)\n",
    "print(\"pdist(np.vstack,'cosine')=\", pdist(X,'cosine'))\n",
    "\n",
    "d2=1-pdist(X,'cosine')\n",
    "#不能直接寫 f'{d2:.2f}'\n",
    "print('cosine similarity=', f'{ d2[0] :.2f}')"
   ]
  },
  {
   "cell_type": "markdown",
   "metadata": {},
   "source": [
    "# <mark style=background-color:yellow>Calculate Vectors </mark> "
   ]
  },
  {
   "cell_type": "code",
   "execution_count": 188,
   "metadata": {},
   "outputs": [],
   "source": [
    "def func_build_word_vector(text):\n",
    "    word2id = {w: i for i, w in enumerate(sorted(list(set(func_reduce(lambda a, b: a + b, text)))))}\n",
    "    id2word = {x[1]: x[0] for x in word2id.items()}\n",
    "    wvectors = np.zeros((len(word2id), len(word2id)))\n",
    "    for sentence in text:\n",
    "        for word1, word2 in zip(sentence[:-1], sentence[1:]):\n",
    "            id1, id2 = word2id[word1], word2id[word2]\n",
    "            wvectors[id1, id2] += 1\n",
    "            wvectors[id2, id1] += 1\n",
    "    return wvectors, word2id, id2word"
   ]
  },
  {
   "cell_type": "code",
   "execution_count": 190,
   "metadata": {},
   "outputs": [],
   "source": [
    "#frac{分子}{分母}"
   ]
  },
  {
   "cell_type": "markdown",
   "metadata": {},
   "source": [
    "#x 平方  $$x^2$$ "
   ]
  },
  {
   "cell_type": "markdown",
   "metadata": {},
   "source": [
    "## <mark style=background-color:grey> 矩陣相乘 </mark> "
   ]
  },
  {
   "cell_type": "code",
   "execution_count": 191,
   "metadata": {},
   "outputs": [
    {
     "name": "stdout",
     "output_type": "stream",
     "text": [
      "[[4 3]\n",
      " [2 1]]\n",
      "[[1 2]\n",
      " [3 4]]\n",
      "[[13 20]\n",
      " [ 5  8]]\n",
      "<class 'numpy.matrix'>\n"
     ]
    }
   ],
   "source": [
    "a=np.mat('4 3; 2 1') #a是矩陣\n",
    "b=np.mat('1 2; 3 4') #b是矩陣\n",
    "print(a)\n",
    "# [[4 3]\n",
    "#  [2 1]]\n",
    "print(b)\n",
    "# [[1 2]\n",
    "#  [3 4]]\n",
    "print(a*b)  #a*b是matrix 矩陣\n",
    "print(type(a*b))\n",
    "# [[13 20]\n",
    "#  [ 5  8]]"
   ]
  },
  {
   "cell_type": "code",
   "execution_count": 192,
   "metadata": {},
   "outputs": [
    {
     "name": "stdout",
     "output_type": "stream",
     "text": [
      "[[4 6]\n",
      " [6 4]]\n",
      "<class 'numpy.ndarray'>\n"
     ]
    }
   ],
   "source": [
    "c=np.array([[4, 3], [2, 1]]) #c是 2darrary\n",
    "d=np.array([[1, 2], [3, 4]]) #d是 2darrary\n",
    "print(c*d)                   #c*d是 2darrary\n",
    "print(type(c*d))\n",
    "# [[4 6]\n",
    "#  [6 4]]"
   ]
  },
  {
   "cell_type": "code",
   "execution_count": 193,
   "metadata": {},
   "outputs": [
    {
     "name": "stdout",
     "output_type": "stream",
     "text": [
      "[[13 20]\n",
      " [ 5  8]]\n"
     ]
    }
   ],
   "source": [
    "print(np.dot(c,d))\n",
    "# [[13 20]\n",
    "#  [ 5  8]]"
   ]
  },
  {
   "cell_type": "code",
   "execution_count": 194,
   "metadata": {},
   "outputs": [
    {
     "name": "stdout",
     "output_type": "stream",
     "text": [
      "A, B相乘(array 的矩陣乘法A.dob(B) =>\n",
      " [[19 22]\n",
      " [43 50]]\n",
      "\n",
      "A, B相對應位置相乘=>\n",
      " [[ 5 12]\n",
      " [21 32]]\n"
     ]
    }
   ],
   "source": [
    "# 矩陣相乘 如果原始資料是array ,要使用 A.dot(B)\n",
    "A = np.array([[1, 2], [3, 4]])\n",
    "B = np.array([[5, 6], [7, 8]])\n",
    "\n",
    "print(\"A, B相乘(array 的矩陣乘法A.dob(B) =>\\n {0}\".format(  A.dot(B)  )      )\n",
    "print()\n",
    "# 1 [5 6] + 2[7 8]\n",
    "# 3 [5 6] + 4 [7 8]\n",
    "\n",
    "# [5 6 ] + [14 16]\n",
    "# [15 18] + [28 32]\n",
    "\n",
    "# [19 22] [43 50]\n",
    "\n",
    "print(\"A, B相對應位置相乘=>\\n {0}\".format(A*B))"
   ]
  },
  {
   "cell_type": "code",
   "execution_count": 195,
   "metadata": {},
   "outputs": [
    {
     "data": {
      "text/plain": [
       "matrix([[19, 22],\n",
       "        [43, 50]])"
      ]
     },
     "execution_count": 195,
     "metadata": {},
     "output_type": "execute_result"
    }
   ],
   "source": [
    "# 矩陣相乘 如果原始資料是 matrix ,要使用 A*B\n",
    "A=np.mat('1 2; 3 4') #a是矩陣\n",
    "B=np.mat('5 6; 7 8') #b是矩陣\n",
    "A*B"
   ]
  },
  {
   "cell_type": "markdown",
   "metadata": {},
   "source": [
    "## <mark style=background-color:grey> 餘弦相似度 </mark> "
   ]
  },
  {
   "cell_type": "code",
   "execution_count": 196,
   "metadata": {},
   "outputs": [
    {
     "data": {
      "text/plain": [
       "array([[1.        , 0.89087081],\n",
       "       [0.89087081, 1.        ]])"
      ]
     },
     "execution_count": 196,
     "metadata": {},
     "output_type": "execute_result"
    }
   ],
   "source": [
    "a=[[1,3,2],[2,2,1]]\n",
    "#from sklearn.metrics.pairwise import cosine_similarity\n",
    "cosine_similarity(a) #使用package"
   ]
  },
  {
   "cell_type": "markdown",
   "metadata": {},
   "source": [
    "## <mark style=background-color:grey> 餘弦距離 = 1 - 餘弦相似度;距離小則相似度高 </mark> "
   ]
  },
  {
   "cell_type": "code",
   "execution_count": 197,
   "metadata": {},
   "outputs": [
    {
     "data": {
      "text/plain": [
       "array([[0.        , 0.10912919],\n",
       "       [0.10912919, 0.        ]])"
      ]
     },
     "execution_count": 197,
     "metadata": {},
     "output_type": "execute_result"
    }
   ],
   "source": [
    "#傳入一個變數a時，返回陣列的第i row 第j column 表示a[i]與a[j]的餘弦距離\n",
    "a=[[1,3,2],[2,2,1]]\n",
    "pairwise_distances(a,metric=\"cosine\")  #使用package"
   ]
  }
 ],
 "metadata": {
  "kernelspec": {
   "display_name": "Python 3",
   "language": "python",
   "name": "python3"
  },
  "language_info": {
   "codemirror_mode": {
    "name": "ipython",
    "version": 3
   },
   "file_extension": ".py",
   "mimetype": "text/x-python",
   "name": "python",
   "nbconvert_exporter": "python",
   "pygments_lexer": "ipython3",
   "version": "3.7.3"
  }
 },
 "nbformat": 4,
 "nbformat_minor": 2
}
