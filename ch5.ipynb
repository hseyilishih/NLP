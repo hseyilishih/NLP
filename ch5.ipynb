{
 "cells": [
  {
   "cell_type": "code",
   "execution_count": 1,
   "metadata": {},
   "outputs": [
    {
     "data": {
      "text/plain": [
       "array([0, 1], dtype=int32)"
      ]
     },
     "execution_count": 1,
     "metadata": {},
     "output_type": "execute_result"
    }
   ],
   "source": [
    "#Kmeans簡單版\n",
    "from sklearn.cluster import KMeans\n",
    "import numpy as np\n",
    "X = np.array([[1, 2], [1, 4], [1, 0], [4, 2], [4, 4], [4, 0]])\n",
    "\n",
    "kmeans = KMeans(n_clusters=2, random_state=0).fit(X)\n",
    "#分群結果\n",
    "kmeans.labels_\n",
    "#預測結果\n",
    "kmeans.predict([[0, 0], [4, 4]])\n",
    "\n"
   ]
  },
  {
   "cell_type": "code",
   "execution_count": 2,
   "metadata": {},
   "outputs": [
    {
     "name": "stdout",
     "output_type": "stream",
     "text": [
      "[1 1 1 1 1 1 1 1 1 1 1 1 1 1 1 1 1 1 1 1 1 1 1 1 1 1 1 1 1 1 1 1 1 1 1 1 1\n",
      " 1 1 1 1 1 1 1 1 1 1 1 1 1 2 2 0 2 2 2 2 2 2 2 2 2 2 2 2 2 2 2 2 2 2 2 2 2\n",
      " 2 2 2 0 2 2 2 2 2 2 2 2 2 2 2 2 2 2 2 2 2 2 2 2 2 2 0 2 0 0 0 0 2 0 0 0 0\n",
      " 0 0 2 2 0 0 0 0 2 0 2 0 2 0 0 2 2 0 0 0 0 0 2 0 0 0 0 2 0 0 0 2 0 0 0 2 0\n",
      " 0 2]\n"
     ]
    },
    {
     "data": {
      "text/plain": [
       "array([1, 2], dtype=int32)"
      ]
     },
     "execution_count": 2,
     "metadata": {},
     "output_type": "execute_result"
    }
   ],
   "source": [
    "from sklearn.datasets import load_iris\n",
    "from sklearn import datasets\n",
    "import pandas as pd\n",
    "import numpy as np\n",
    "from sklearn.cluster import KMeans\n",
    "\n",
    "iris = datasets.load_iris()\n",
    "\n",
    "df_data = pd.DataFrame(iris['data'], columns=iris.feature_names)\n",
    "df_target = pd.DataFrame(iris['target'], columns=['Target'])\n",
    "df = pd.concat([df_data,df_target],axis=1)\n",
    "\n",
    "km = KMeans(n_clusters=3)\n",
    "\n",
    "km.fit(df_data)\n",
    "\n",
    "labels = km.predict(df_data)\n",
    "print(labels)\n",
    "\n",
    "km.predict([[0.1,0.2,0.3,0.4],[5.9,3.0,5.1,1.8]])"
   ]
  },
  {
   "cell_type": "code",
   "execution_count": 3,
   "metadata": {},
   "outputs": [
    {
     "data": {
      "image/png": "[encoded data removed]",
      "text/plain": [
       "<matplotlib.figure.Figure at 0x1a162a67b8>"
      ]
     },
     "metadata": {},
     "output_type": "display_data"
    }
   ],
   "source": [
    "#Kmeans+Iris+Data Visualization\n",
    "import matplotlib.pyplot as plt\n",
    "\n",
    "#df_data.loc[:,['petal length (cm)','petal width (cm)']]\n",
    "\n",
    "plt.scatter(df_data['petal length (cm)'],\n",
    "                    df_data['petal width (cm)'],\n",
    "                            c=labels)\n",
    "plt.show()"
   ]
  },
  {
   "cell_type": "code",
   "execution_count": 4,
   "metadata": {},
   "outputs": [
    {
     "data": {
      "image/png": "[encoded data removed]",
      "text/plain": [
       "<matplotlib.figure.Figure at 0x1a162a6320>"
      ]
     },
     "metadata": {},
     "output_type": "display_data"
    }
   ],
   "source": [
    "ks = range(1, 6)\n",
    "inertias = []\n",
    "\n",
    "for k in ks:\n",
    "\n",
    "    km = KMeans(n_clusters=k)\n",
    "    km.fit(df_data)\n",
    "    inertias.append(km.inertia_)\n",
    "    \n",
    "plt.plot(ks, inertias, '-o')\n",
    "plt.xlabel('number of clusters, k')\n",
    "plt.ylabel('inertia')\n",
    "plt.xticks(ks)\n",
    "plt.show()"
   ]
  },
  {
   "cell_type": "code",
   "execution_count": 5,
   "metadata": {
    "collapsed": true
   },
   "outputs": [],
   "source": [
    "#Fun Time\n",
    "#Kmeans簡單版"
   ]
  },
  {
   "cell_type": "code",
   "execution_count": 6,
   "metadata": {
    "collapsed": true
   },
   "outputs": [],
   "source": [
    "X = '這間咖哩飯真的很好吃，你有沒有去過類似的咖哩店吃'\n",
    "Y = '奇怪這台車怎麼發都發不動，我覺得這台車事不是壞掉了'\n",
    "Z = '今天天氣真是不錯，你們在做什麼，有沒有去郊遊啊'\n",
    "A = '小寶這個人真的喜歡助人，你們看起來真的是喜歡助人，是不是'\n",
    "def bigram(x):\n",
    "    return [x[i:i+2] for i in range(0,len(x)-1)]\n",
    "def bigram_freq(x):\n",
    "    bigram_dict=dict()\n",
    "    for (c1,c2) in x:\n",
    "        bigram_dict[(c1,c2)]=bigram_dict.get((c1,c2),0)+1\n",
    "    return bigram_dict"
   ]
  },
  {
   "cell_type": "code",
   "execution_count": 7,
   "metadata": {
    "collapsed": true
   },
   "outputs": [],
   "source": [
    "b_X = bigram(X)\n",
    "freq_X = bigram_freq(b_X)\n",
    "b_Y = bigram(Y)\n",
    "freq_Y = bigram_freq(b_Y)\n",
    "b_Z = bigram(Z)\n",
    "freq_Z = bigram_freq(b_Z)\n",
    "b_A = bigram(A)\n",
    "freq_A = bigram_freq(b_A)"
   ]
  },
  {
   "cell_type": "code",
   "execution_count": 9,
   "metadata": {
    "collapsed": true
   },
   "outputs": [],
   "source": [
    "#zip_list_XY = list(zip(list(freq_Y.values()), list(freq_X.values()) ))\n",
    "#zip_list_XY_array = np.array(zip_list_XY)\n",
    "\n",
    "all_word = [list(freq_X.values()),list(freq_Y.values()),list(freq_Z.values()),list(freq_A.values())]\n",
    "array_all_word = np.array(all_word)"
   ]
  },
  {
   "cell_type": "code",
   "execution_count": 10,
   "metadata": {},
   "outputs": [
    {
     "data": {
      "text/plain": [
       "array([0, 3, 2, 1], dtype=int32)"
      ]
     },
     "execution_count": 10,
     "metadata": {},
     "output_type": "execute_result"
    }
   ],
   "source": [
    "kmeans = KMeans(n_clusters=4, random_state=0).fit(array_all_word)\n",
    "#分群結果\n",
    "kmeans.labels_\n",
    "#預測結果"
   ]
  },
  {
   "cell_type": "code",
   "execution_count": null,
   "metadata": {
    "collapsed": true
   },
   "outputs": [],
   "source": [
    "kmeans.predict([list(freq_X.values()), list(freq_Y.values())])"
   ]
  }
 ],
 "metadata": {
  "kernelspec": {
   "display_name": "Python 3",
   "language": "python",
   "name": "python3"
  },
  "language_info": {
   "codemirror_mode": {
    "name": "ipython",
    "version": 3
   },
   "file_extension": ".py",
   "mimetype": "text/x-python",
   "name": "python",
   "nbconvert_exporter": "python",
   "pygments_lexer": "ipython3",
   "version": "3.7.3"
  }
 },
 "nbformat": 4,
 "nbformat_minor": 2
}
